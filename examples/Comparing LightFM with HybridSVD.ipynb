{
 "cells": [
  {
   "cell_type": "markdown",
   "metadata": {},
   "source": [
    "# Introduction"
   ]
  },
  {
   "cell_type": "markdown",
   "metadata": {},
   "source": [
    "LightFM is a very popular tool, which finds its applications both in small projects and in production systems. On a high level, the general idea of representing users and items in terms of combinations of their features, used in the LightFM model, is not new. It was implemented in a number of preceeding works, and I'm not even saying about the obvious link to [Factorization Machines](https://www.csie.ntu.edu.tw/~b97053/paper/Rendle2010FM.pdf). Another notable member of this family is [SVDFeature](https://arxiv.org/pdf/1109.2271.pdf) , which came around in 2011 and in some sense was even closer to LightFM than FM (the naming, though, is misleading, as it is not an SVD-based model). In fact, the feature combination approach can be traced back to the Microsoft's [MatchBox system](https://www.microsoft.com/en-us/research/wp-content/uploads/2009/01/www09.pdf) from 2009. The authors used the term *trait vector* for a combined representation and employed elaborate probabilistic framework on top of it. Still, even though the idea itself was not new, the LightFM model was made convenient and extremely easy to use, which, probably, has made this framework popular among practitioners. Moreover, it provided several ranking optimization schemes and had a fairly good computational performance.\n",
    "\n",
    "On the other hand, I have also seen some complains from data scientists about actual prediction quality of LightFM. I could not find a more or less rigorous evaluation of LightFM, where it would be compared against strong baselines and, more importantly, all models would undergo appropriate tuning. The [examples section](https://lyst.github.io/lightfm/docs/examples.html) of the LightFM's documentation merely provides quick-start demos, not real performance tests. The [paper from the RecSys workshop](http://ceur-ws.org/Vol-1448/paper4.pdf) also does not provide too much evidence on the model's performance. Numerous online tutorials only repeat basic configuration steps, leaving the whole tuning aspect aside. Considering how often practitioners are advised to start with LightFM (in my experience), I have decided **to put the LightFM capabilities to the real test**."
   ]
  },
  {
   "cell_type": "markdown",
   "metadata": {},
   "source": [
    "<div class=\"alert alert-block alert-info\">In this tutorial we will conduct a thorough experiment with proper tuning and testing of LightFM against some strong baselines in the cold strat setting.</div>"
   ]
  },
  {
   "cell_type": "markdown",
   "metadata": {},
   "source": [
    "The baseline models in this tutorial will be based on my favorite SVD (the real one, not just some matrix factorization). I have summarized the reasons why I promote SVD-based recommendation algorithms as the default choice in my [previous post](//slug:to-svd-or-not-to-svd). However, I have not yet described how to use SVD in the cold start scenario. The theoretical foundation as well as more experiments can be found in our [recent paper](https://arxiv.org/abs/1802.06398), where we demonstrate how to adopt both [PureSVD](https://www.researchgate.net/publication/221141030_Performance_of_recommender_algorithms_on_top-N_recommendation_tasks) and our HybridSVD model for the cold start scenario. Here, I will provide only the minimum necessary material for understanding what is going on, focusing more on technical aspects instead.\n",
    "\n",
    "For all experiments we will employ an *advanced optimization procedure for LightFM* to ensure that the obtained model is close to its optimal configuration.\n",
    "Conversely, as we will see, *tuning of the SVD-based models is much more straightforward and less cumbersome*. They depend on fewer hyper-parameters and also have deterministic output. The question remains, whether it is possible to outperform LightFM with these simpler models. Let us find it out."
   ]
  },
  {
   "cell_type": "markdown",
   "metadata": {},
   "source": [
    "## Teleport me to:\n",
    "[Getting data](#getting-data)  \n",
    "[Recommender models](#recommender-models)  \n",
    ">[LightFM](#LightFM)  \n",
    ">[PureSVD](#PureSVD)  \n",
    ">[HybridSVD](#HybridSVD)  \n",
    "\n",
    "[Evaluation of models](#evaluation-of-models)  \n",
    "[Conclusion](#conclusion)  "
   ]
  },
  {
   "cell_type": "markdown",
   "metadata": {},
   "source": [
    "<a id=\"getting-data\"></a>\n",
    "# Getting data"
   ]
  },
  {
   "cell_type": "markdown",
   "metadata": {},
   "source": [
    "We will use the **StackExchange** dataset provided in [one of the examples](https://lyst.github.io/lightfm/docs/examples/hybrid_crossvalidated.html) from the LightFM documentation. It consist of users who have answered certain questions. In addition to the user-answer interaction matrix, the dataset also provides additional information in the form of tags assigned to each answered question. The data-reading code below is simply copied from the documentation."
   ]
  },
  {
   "cell_type": "markdown",
   "metadata": {},
   "source": [
    "## Downloading and preprocessing data"
   ]
  },
  {
   "cell_type": "code",
   "execution_count": 1,
   "metadata": {},
   "outputs": [],
   "source": [
    "import numpy as np\n",
    "import pandas as pd\n",
    "from lightfm.datasets import fetch_stackexchange\n",
    "from polara.recommender.coldstart.data import ItemColdStartData\n",
    "from polara.tools.display import print_frames # to print df's side-by-side"
   ]
  },
  {
   "cell_type": "code",
   "execution_count": 2,
   "metadata": {},
   "outputs": [],
   "source": [
    "data = fetch_stackexchange('crossvalidated',\n",
    "                           test_set_fraction=0.1,\n",
    "                           indicator_features=False,\n",
    "                           tag_features=True)"
   ]
  },
  {
   "cell_type": "markdown",
   "metadata": {},
   "source": [
    "The `data` variable contains both training and test datasets, as well as tag assignments and their labels:"
   ]
  },
  {
   "cell_type": "code",
   "execution_count": 3,
   "metadata": {},
   "outputs": [
    {
     "name": "stdout",
     "output_type": "stream",
     "text": [
      "dict_keys(['train', 'test', 'item_features', 'item_feature_labels'])\n"
     ]
    }
   ],
   "source": [
    "print(data.keys())"
   ]
  },
  {
   "cell_type": "markdown",
   "metadata": {},
   "source": [
    "Now, we need to convert it into the Polara-compatible format of `pandas DataFrames`. Mind the field names for users and items in the result:"
   ]
  },
  {
   "cell_type": "code",
   "execution_count": 4,
   "metadata": {},
   "outputs": [],
   "source": [
    "entities = ['users', 'items']\n",
    "training_data = pd.DataFrame(dict(zip(entities, data['train'].nonzero())))\n",
    "test_data = pd.DataFrame(dict(zip(entities, data['test'].nonzero())))"
   ]
  },
  {
   "cell_type": "code",
   "execution_count": 5,
   "metadata": {},
   "outputs": [],
   "source": [
    "seed = 321 # to be used in data model, LightFM, and optimization routines\n",
    "training_data = training_data.sample(frac=1, random_state=seed) # shuffle data"
   ]
  },
  {
   "cell_type": "markdown",
   "metadata": {},
   "source": [
    "We also need to convert item features (tags) into a dataframe with a ceartain structure. This will enable many Polara's built-in functions for data manipulation."
   ]
  },
  {
   "cell_type": "code",
   "execution_count": 6,
   "metadata": {},
   "outputs": [],
   "source": [
    "# convert sparse matrix into `item - tag list` pd.Series object\n",
    "# make use of sparse CSR format for efficiency\n",
    "item_tags = (\n",
    "    pd.Series(\n",
    "        np.array_split(\n",
    "            # convert back fron indices to tag labels\n",
    "            np.take(data['item_feature_labels'],\n",
    "                    data['item_features'].indices),\n",
    "            # split tags into groups by items\n",
    "            data['item_features'].indptr[1:-1]))\n",
    "    .rename_axis('items')\n",
    "    .to_frame('tags') # Polara expects dataframe\n",
    ")"
   ]
  },
  {
   "cell_type": "code",
   "execution_count": 7,
   "metadata": {},
   "outputs": [
    {
     "data": {
      "text/html": [
       "<table style=\"border: none\">\n",
       "    <tr style=\"border: none\"><td style=\"border: none\"> <div>\n",
       "<style scoped>\n",
       "    .dataframe tbody tr th:only-of-type {\n",
       "        vertical-align: middle;\n",
       "    }\n",
       "\n",
       "    .dataframe tbody tr th {\n",
       "        vertical-align: top;\n",
       "    }\n",
       "\n",
       "    .dataframe thead th {\n",
       "        text-align: right;\n",
       "    }\n",
       "</style>\n",
       "<table border=\"1\" class=\"dataframe\">\n",
       "  <thead>\n",
       "    <tr style=\"text-align: right;\">\n",
       "      <th></th>\n",
       "      <th>users</th>\n",
       "      <th>items</th>\n",
       "    </tr>\n",
       "  </thead>\n",
       "  <tbody>\n",
       "    <tr>\n",
       "      <th>35417</th>\n",
       "      <td>1088</td>\n",
       "      <td>41856</td>\n",
       "    </tr>\n",
       "    <tr>\n",
       "      <th>12389</th>\n",
       "      <td>205</td>\n",
       "      <td>38838</td>\n",
       "    </tr>\n",
       "    <tr>\n",
       "      <th>48719</th>\n",
       "      <td>2081</td>\n",
       "      <td>20186</td>\n",
       "    </tr>\n",
       "    <tr>\n",
       "      <th>25104</th>\n",
       "      <td>635</td>\n",
       "      <td>49982</td>\n",
       "    </tr>\n",
       "    <tr>\n",
       "      <th>46833</th>\n",
       "      <td>1878</td>\n",
       "      <td>30914</td>\n",
       "    </tr>\n",
       "  </tbody>\n",
       "</table>\n",
       "</div> </td>\n",
       "<td style=\"border: none\"> <div>\n",
       "<style scoped>\n",
       "    .dataframe tbody tr th:only-of-type {\n",
       "        vertical-align: middle;\n",
       "    }\n",
       "\n",
       "    .dataframe tbody tr th {\n",
       "        vertical-align: top;\n",
       "    }\n",
       "\n",
       "    .dataframe thead th {\n",
       "        text-align: right;\n",
       "    }\n",
       "</style>\n",
       "<table border=\"1\" class=\"dataframe\">\n",
       "  <thead>\n",
       "    <tr style=\"text-align: right;\">\n",
       "      <th></th>\n",
       "      <th>users</th>\n",
       "      <th>items</th>\n",
       "    </tr>\n",
       "  </thead>\n",
       "  <tbody>\n",
       "    <tr>\n",
       "      <th>0</th>\n",
       "      <td>16</td>\n",
       "      <td>70628</td>\n",
       "    </tr>\n",
       "    <tr>\n",
       "      <th>1</th>\n",
       "      <td>18</td>\n",
       "      <td>66569</td>\n",
       "    </tr>\n",
       "    <tr>\n",
       "      <th>2</th>\n",
       "      <td>18</td>\n",
       "      <td>66609</td>\n",
       "    </tr>\n",
       "    <tr>\n",
       "      <th>3</th>\n",
       "      <td>18</td>\n",
       "      <td>68964</td>\n",
       "    </tr>\n",
       "    <tr>\n",
       "      <th>4</th>\n",
       "      <td>18</td>\n",
       "      <td>69780</td>\n",
       "    </tr>\n",
       "  </tbody>\n",
       "</table>\n",
       "</div> </td>\n",
       "<td style=\"border: none\"> <div>\n",
       "<style scoped>\n",
       "    .dataframe tbody tr th:only-of-type {\n",
       "        vertical-align: middle;\n",
       "    }\n",
       "\n",
       "    .dataframe tbody tr th {\n",
       "        vertical-align: top;\n",
       "    }\n",
       "\n",
       "    .dataframe thead th {\n",
       "        text-align: right;\n",
       "    }\n",
       "</style>\n",
       "<table border=\"1\" class=\"dataframe\">\n",
       "  <thead>\n",
       "    <tr style=\"text-align: right;\">\n",
       "      <th></th>\n",
       "      <th>tags</th>\n",
       "    </tr>\n",
       "    <tr>\n",
       "      <th>items</th>\n",
       "      <th></th>\n",
       "    </tr>\n",
       "  </thead>\n",
       "  <tbody>\n",
       "    <tr>\n",
       "      <th>0</th>\n",
       "      <td>[bayesian, prior, elicitation]</td>\n",
       "    </tr>\n",
       "    <tr>\n",
       "      <th>1</th>\n",
       "      <td>[distributions, normality]</td>\n",
       "    </tr>\n",
       "    <tr>\n",
       "      <th>2</th>\n",
       "      <td>[software, open-source]</td>\n",
       "    </tr>\n",
       "    <tr>\n",
       "      <th>3</th>\n",
       "      <td>[distributions, statistical-significance]</td>\n",
       "    </tr>\n",
       "    <tr>\n",
       "      <th>4</th>\n",
       "      <td>[machine-learning]</td>\n",
       "    </tr>\n",
       "  </tbody>\n",
       "</table>\n",
       "</div> </td>\n",
       "    </tr>\n",
       "    </table>"
      ],
      "text/plain": [
       "<IPython.core.display.HTML object>"
      ]
     },
     "execution_count": 7,
     "metadata": {},
     "output_type": "execute_result"
    }
   ],
   "source": [
    "print_frames([training_data.head(), # data for training and validation\n",
    "              test_data.head(), # data for testing\n",
    "              item_tags.head()]) # item features data"
   ]
  },
  {
   "cell_type": "markdown",
   "metadata": {},
   "source": [
    "## Preparing data model for training and validation"
   ]
  },
  {
   "cell_type": "markdown",
   "metadata": {},
   "source": [
    "We need to wrap our data into an instance of Polara's `RecommenderData` subclass, designed for automating cold start experiments. This also allows to share data among many recommender models and propagate consistent state across all of them. In order to fine-tune models we will additionally split training data into the traininig and validation sets using the Polara's built-in functionality."
   ]
  },
  {
   "cell_type": "markdown",
   "metadata": {},
   "source": [
    "<div class=\"alert alert-block alert-info\">Once optimal-hyperparameters are found, the model will be retrained on the full training data and verified against the initially provided test set.</div>"
   ]
  },
  {
   "cell_type": "code",
   "execution_count": 8,
   "metadata": {},
   "outputs": [
    {
     "name": "stdout",
     "output_type": "stream",
     "text": [
      "ItemColdStartData with Fields(userid='users', itemid='items', feedback=None)\n"
     ]
    }
   ],
   "source": [
    "data_model = ItemColdStartData(\n",
    "    training_data,\n",
    "    *training_data.columns, # userid, itemid\n",
    "    item_features=item_tags,\n",
    "    seed=seed)\n",
    "print(data_model)"
   ]
  },
  {
   "cell_type": "code",
   "execution_count": 9,
   "metadata": {},
   "outputs": [
    {
     "name": "stdout",
     "output_type": "stream",
     "text": [
      "Preparing data...\n",
      "1 unique users entities within 2 holdout interactions were filtered. Reason: not in the training data.\n",
      "Done.\n",
      "There are 54975 events in the training and 2853 events in the holdout.\n"
     ]
    }
   ],
   "source": [
    "data_model.test_ratio = 0.05 # take 5% of items as cold (at random)\n",
    "data_model.prepare()"
   ]
  },
  {
   "cell_type": "markdown",
   "metadata": {},
   "source": [
    "Let us look at the `holdout` data, which will serve as a validation set:"
   ]
  },
  {
   "cell_type": "code",
   "execution_count": 10,
   "metadata": {},
   "outputs": [
    {
     "data": {
      "text/html": [
       "<table style=\"border: none\">\n",
       "    <tr style=\"border: none\"><td style=\"border: none\"> <div>\n",
       "<style scoped>\n",
       "    .dataframe tbody tr th:only-of-type {\n",
       "        vertical-align: middle;\n",
       "    }\n",
       "\n",
       "    .dataframe tbody tr th {\n",
       "        vertical-align: top;\n",
       "    }\n",
       "\n",
       "    .dataframe thead th {\n",
       "        text-align: right;\n",
       "    }\n",
       "</style>\n",
       "<table border=\"1\" class=\"dataframe\">\n",
       "  <thead>\n",
       "    <tr style=\"text-align: right;\">\n",
       "      <th></th>\n",
       "      <th>users</th>\n",
       "      <th>items_cold</th>\n",
       "    </tr>\n",
       "  </thead>\n",
       "  <tbody>\n",
       "    <tr>\n",
       "      <th>12389</th>\n",
       "      <td>39</td>\n",
       "      <td>0</td>\n",
       "    </tr>\n",
       "    <tr>\n",
       "      <th>48717</th>\n",
       "      <td>1</td>\n",
       "      <td>1</td>\n",
       "    </tr>\n",
       "    <tr>\n",
       "      <th>25266</th>\n",
       "      <td>75</td>\n",
       "      <td>2</td>\n",
       "    </tr>\n",
       "    <tr>\n",
       "      <th>27901</th>\n",
       "      <td>1242</td>\n",
       "      <td>2</td>\n",
       "    </tr>\n",
       "    <tr>\n",
       "      <th>30278</th>\n",
       "      <td>32</td>\n",
       "      <td>3</td>\n",
       "    </tr>\n",
       "  </tbody>\n",
       "</table>\n",
       "</div> </td>\n",
       "<td style=\"border: none\"> <div>\n",
       "<style scoped>\n",
       "    .dataframe tbody tr th:only-of-type {\n",
       "        vertical-align: middle;\n",
       "    }\n",
       "\n",
       "    .dataframe tbody tr th {\n",
       "        vertical-align: top;\n",
       "    }\n",
       "\n",
       "    .dataframe thead th {\n",
       "        text-align: right;\n",
       "    }\n",
       "</style>\n",
       "<table border=\"1\" class=\"dataframe\">\n",
       "  <thead>\n",
       "    <tr style=\"text-align: right;\">\n",
       "      <th></th>\n",
       "      <th>users</th>\n",
       "      <th>items_cold</th>\n",
       "    </tr>\n",
       "  </thead>\n",
       "  <tbody>\n",
       "    <tr>\n",
       "      <th>8223</th>\n",
       "      <td>29</td>\n",
       "      <td>1920</td>\n",
       "    </tr>\n",
       "    <tr>\n",
       "      <th>36348</th>\n",
       "      <td>677</td>\n",
       "      <td>1921</td>\n",
       "    </tr>\n",
       "    <tr>\n",
       "      <th>13834</th>\n",
       "      <td>53</td>\n",
       "      <td>1922</td>\n",
       "    </tr>\n",
       "    <tr>\n",
       "      <th>38558</th>\n",
       "      <td>343</td>\n",
       "      <td>1923</td>\n",
       "    </tr>\n",
       "    <tr>\n",
       "      <th>41979</th>\n",
       "      <td>225</td>\n",
       "      <td>1924</td>\n",
       "    </tr>\n",
       "  </tbody>\n",
       "</table>\n",
       "</div> </td>\n",
       "    </tr>\n",
       "    </table>"
      ],
      "text/plain": [
       "<IPython.core.display.HTML object>"
      ]
     },
     "execution_count": 10,
     "metadata": {},
     "output_type": "execute_result"
    }
   ],
   "source": [
    "print_frames([data_model.test.holdout.head(), data_model.test.holdout.tail()])"
   ]
  },
  {
   "cell_type": "markdown",
   "metadata": {},
   "source": [
    "**The procedure for both validation and final evaluation will be the following**:\n",
    "1. For every unique cold item, we generate a list of candidate users who, according to our models, are most likely to be intersted in this item.\n",
    "2. We then verify the list of predicted users against the actual users from the holdout.\n",
    "\n",
    "We will use standard evaluation metrics to assess the quality of predictions."
   ]
  },
  {
   "cell_type": "markdown",
   "metadata": {},
   "source": [
    "<a id=\"recommender-models\"></a>\n",
    "# Recommender models"
   ]
  },
  {
   "cell_type": "markdown",
   "metadata": {},
   "source": [
    "## LightFM"
   ]
  },
  {
   "cell_type": "markdown",
   "metadata": {},
   "source": [
    "As stated in the introduction, LightFM is an efficient and convenient instrument for building hybrid recommender systems. There are, however, several downsides in its implementation (at least at the moment of writing this post).\n",
    "\n",
    "First of all, **there is no off-the-shelf support for the warm start scenario** (e.g., for new users with several known interactions), which would allow estimating strong generalization of the algorithm.\n",
    "Basically, there's no folding-in implementation, even though it seems to be in a high demand (see github issues [here](https://github.com/lyst/lightfm/issues/300), [here](https://github.com/lyst/lightfm/issues/322#issuecomment-401951114) or [here](https://github.com/lyst/lightfm/issues/194#issuecomment-310775451)) and it is not that difficult to implement. Likewise, there is no [session-based recommendations support](https://github.com/lyst/lightfm/issues/362) as well. The [sometimes recommended](https://github.com/lyst/lightfm/issues/347#issuecomment-407383263) `fit_partial` method is not really an answer to these problems. It is going to update both user and item embeddings and sometimes it is not what you may want. For example, fitting newly introduced users would affect latent representation of some know items as well, potentially changing recommendations for already present users without any of their actions. Such an unintended change in recommendations can be confusing for users and lead to a lower satisfaction with a recommendation service.\n",
    "\n",
    "Another aspect, which can be critical in certain situations is **the lack of determinism**. LightFM's output is deterministic only in strict conditions: single-threaded execution with a fixed input data order. Multithredading would cause racing conditions that are resolved at a low system level beyond user control. This is not unique to LightFM, of course, and is shared across all matrix or tensor factorization algorithms based on naive SGD. Input data reordering and, probably, [some other factors](https://github.com/lyst/lightfm/issues/225) may also lead to noticably different results. Even in this notebook, if you set the number of LightFM threads to 1 (see `num_threads` variable below), once you restart the notebook kernel, the results may change. If your business has specific requirements on, e.g., non-regression testing, this model may not be suitable for you. Conversely, **SVD-based models are free of such issues.** This is also among the reasons why matrix factorization models like SVDFeature or FunkSVD should not be mixed with real SVD-based models."
   ]
  },
  {
   "cell_type": "markdown",
   "metadata": {},
   "source": [
    "### The model"
   ]
  },
  {
   "cell_type": "code",
   "execution_count": 11,
   "metadata": {},
   "outputs": [],
   "source": [
    "from polara.recommender.coldstart.models import LightFMItemColdStart"
   ]
  },
  {
   "cell_type": "code",
   "execution_count": 12,
   "metadata": {},
   "outputs": [],
   "source": [
    "num_threads = 4 # number of parallel threads used by LightFM\n",
    "max_rank = 200 # the max value or latent features used in tuning"
   ]
  },
  {
   "cell_type": "markdown",
   "metadata": {},
   "source": [
    "Setting the number of threads greater than 1 is not critical in our setup, as the result will fluctuate by a relatively small margin, which should not drammatically change the whole picture of the algorithm's performance. Nevertheless, you can try running in a fully deterministic setting and verify that. However, you'll have to wait a bit longer during the LightFM tuning phase due to a sequential execution."
   ]
  },
  {
   "cell_type": "code",
   "execution_count": 13,
   "metadata": {},
   "outputs": [],
   "source": [
    "def create_lightfm_model(data_model, item_features, num_threads, seed=None):\n",
    "    'Prepare LightFM model and fix initial configuration.'\n",
    "    model = LightFMItemColdStart(data_model, item_features=item_features)\n",
    "    model.loss = 'warp'\n",
    "    model.learning_schedule = 'adagrad'\n",
    "    model.seed = seed\n",
    "    model.fit_params['num_threads'] = num_threads\n",
    "    return model"
   ]
  },
  {
   "cell_type": "code",
   "execution_count": 14,
   "metadata": {},
   "outputs": [],
   "source": [
    "lfm = create_lightfm_model(data_model, item_tags, num_threads, seed)"
   ]
  },
  {
   "cell_type": "markdown",
   "metadata": {},
   "source": [
    "### Tuning"
   ]
  },
  {
   "cell_type": "markdown",
   "metadata": {},
   "source": [
    "As the LightFM algorithm depends on many hyper-parameters and has a stochastic nature, it presents a hard problem for optimization and requires a fair bit of tuning. There are many great tools that make life a bit easier in this regard, e.g., [HyperOpt](https://hyperopt.github.io/) or [Optuna](https://optuna.readthedocs.io/). I personally prefer the latter as it typically allows writing more concise code. We will be using it in this tutorial as well. If you don't have `optuna` installed you can simply run\n",
    "```\n",
    "pip install optuna\n",
    "```\n",
    "in your python environment.\n",
    "\n",
    "Instead of performing *random search* for hyper-parameter optimization we will employ a more advanced and flexible techniqe based on *Tree-structured Parzen Estimator* (TPE). It will help to iteratively narrow-down the hyper-parameter search subspace and preemptively disregard unmpromising search regions. A bit more details along with resources for further reading can be found in the [optuna documentation](https://optuna.readthedocs.io/en/latest/reference/samplers.html). There is also a nice comparison of different techniques in this [blog post](http://neupy.com/2016/12/17/hyperparameter_optimization_for_neural_networks.html#tree-structured-parzen-estimators-tpe)."
   ]
  },
  {
   "cell_type": "code",
   "execution_count": 15,
   "metadata": {},
   "outputs": [],
   "source": [
    "import optuna\n",
    "try: # import lightweight progressbar\n",
    "    from ipypb import track\n",
    "except ImportError: # fallback to default\n",
    "    from tqdm.auto import tqdm as track"
   ]
  },
  {
   "cell_type": "markdown",
   "metadata": {},
   "source": [
    "Note that tuning with high number of hyper-parameters exponentially increases the complexity of the task. The authors of `optuna` even recommend to refrain from tuning unimportant variables. We will therefore **concentrate on 3 main hyper-parameters**:\n",
    "1. dimensionality of the latent space (rank of the decomposition),\n",
    "2. importance of item features, controlled by the `item_alpha` regularization parameter,\n",
    "3. number of epochs.\n",
    "\n",
    "We will leave other hyper-parameters with their default values. My preliminary experiments showed that there was no big difference in the final result after changing them, as long as their values remained within a reasonable range. As always, you are free to verify that on your own by adding more hyper-parameters into the search space. You will need to modify the `objective` function defined below.\n",
    "\n",
    "To aid the learning process, we will sample `item_alpha` from a log-uniform distribution and `rank` values from a range of positive integer numbers up to a certain threshold. Note that we also use `set_user_attr` routine to store additional information related to each tuning trial."
   ]
  },
  {
   "cell_type": "code",
   "execution_count": 16,
   "metadata": {},
   "outputs": [],
   "source": [
    "def evaluate_lightfm(model):\n",
    "    '''Convenience function for evaluating LightFM.\n",
    "    It disables user bias terms to improve quality in cold start.'''\n",
    "    model._model.user_biases *= 0.0\n",
    "    return model.evaluate()\n",
    "\n",
    "def find_target_metric(metrics, target_metric):\n",
    "    'Convenience function to quickly extract the required metric.'\n",
    "    for metric in metrics:\n",
    "        if hasattr(metric, target_metric):\n",
    "            return getattr(metric, target_metric)\n",
    "\n",
    "def lightfm_objective(model, target_metric):\n",
    "    'Objective function factory for optuna trials.'\n",
    "    def objective(trial):\n",
    "        # sample hyper-parameter values\n",
    "        model.rank = trial.suggest_int('rank', 1, max_rank)\n",
    "        model.item_alpha = trial.suggest_loguniform('item_alpha', 1e-10, 1e-0)\n",
    "        # train model silently and evaluate\n",
    "        model.verbose = False\n",
    "        model.build()\n",
    "        metrics = evaluate_lightfm(model)\n",
    "        target = find_target_metric(metrics, target_metric)\n",
    "        # store trial-specific information for later use\n",
    "        trial.set_user_attr('epochs', model.fit_params['epochs'])\n",
    "        trial.set_user_attr('metrics', metrics)\n",
    "        return target\n",
    "    return objective"
   ]
  },
  {
   "cell_type": "markdown",
   "metadata": {},
   "source": [
    "One of the limitations of TPE is that it does not take into account possible dependencies between hyper-parameters. In addition to that, parameters like `rank` or `epochs` significantly influence the training time. In order to avoid spending too much time on getting a reasonably good model, we will use a specific tuning procedure.\n",
    "\n",
    "We take the number of `epochs` out of the main loop. Based on that, we want to early exclude bad configurations that lead to high enough scores solely due to high number of epochs. Hence, we start from a smaller number of epochs and increase it gradually, letting TPE discard unpromising search directions along the way. Hopefully, it won't discard good search regions that can potentially produce good results with a higher number of epochs. Likewise, we also gradually decrease the trials budget for each subsequent number of epochs, assuming that narrower search space requires less exploration for achieving reasonable quality."
   ]
  },
  {
   "cell_type": "code",
   "execution_count": 17,
   "metadata": {},
   "outputs": [],
   "source": [
    "n_trials = {\n",
    "# epochs: # trials\n",
    "    15: 30,\n",
    "    25: 25,\n",
    "    50: 20,\n",
    "    75: 15,\n",
    "    100: 10,\n",
    "    150: 5\n",
    "}"
   ]
  },
  {
   "cell_type": "markdown",
   "metadata": {},
   "source": [
    "We will target specifically the `Precision@10` metric and will anylize other metrics during the final evaluation."
   ]
  },
  {
   "cell_type": "code",
   "execution_count": 18,
   "metadata": {},
   "outputs": [
    {
     "data": {
      "text/html": [
       "<div><span class=\"Text-label\" style=\"display:inline-block; overflow:hidden; white-space:nowrap; text-overflow:ellipsis; min-width:0; max-width:10ex; vertical-align:middle; text-align:right\"></span>\n",
       "<progress style=\"width:60ex\" max=\"6\" value=\"6\" class=\"Progress-main\"/></progress>\n",
       "<span class=\"Progress-label\"><strong>100%</strong></span>\n",
       "<span class=\"Iteration-label\">6/6</span>\n",
       "<span class=\"Time-label\">[06:10<00:36, 61.66s/it]</span></div>"
      ],
      "text/plain": [
       "\u001b[A\u001b[2K\r",
       " [████████████████████████████████████████████████████████████] 6/6 [06:10<00:36, 61.66s/it]"
      ]
     },
     "metadata": {},
     "output_type": "display_data"
    }
   ],
   "source": [
    "target_metric = 'precision'\n",
    "objective = lightfm_objective(lfm, target_metric)\n",
    "\n",
    "study = optuna.create_study(\n",
    "    direction = 'maximize',\n",
    "    sampler = optuna.samplers.TPESampler(seed=seed)\n",
    ")\n",
    "\n",
    "optuna.logging.disable_default_handler() # do not report progress\n",
    "for num_epochs, num_trials in track(n_trials.items()):\n",
    "    lfm.fit_params['epochs'] = num_epochs\n",
    "    study.optimize(objective, n_trials=num_trials, n_jobs=1, catch=None)"
   ]
  },
  {
   "cell_type": "markdown",
   "metadata": {},
   "source": [
    "Our optimal configuration can be retrieved as follows (note that it can be slightly different on your machine):"
   ]
  },
  {
   "cell_type": "code",
   "execution_count": 19,
   "metadata": {},
   "outputs": [
    {
     "name": "stdout",
     "output_type": "stream",
     "text": [
      "The best value of precision=0.0344 was achieved with rank=9 and item_alpha=7.26e-07 within 100 epochs.\n"
     ]
    }
   ],
   "source": [
    "print(f'The best value of {target_metric}={study.best_value:0.4f} was achieved with '\n",
    "      f'rank={study.best_params[\"rank\"]} and item_alpha={study.best_params[\"item_alpha\"]:.02e} '\n",
    "      f'within {study.best_trial.user_attrs[\"epochs\"]} epochs.')"
   ]
  },
  {
   "cell_type": "markdown",
   "metadata": {},
   "source": [
    "### Visualizing tuning results"
   ]
  },
  {
   "cell_type": "markdown",
   "metadata": {},
   "source": [
    "Let's plot the result to see whether there are any trends and whether we need to continue our parameter search in some new region of the hyper-parameter subspace."
   ]
  },
  {
   "cell_type": "code",
   "execution_count": 20,
   "metadata": {},
   "outputs": [],
   "source": [
    "import matplotlib.pyplot as plt\n",
    "%matplotlib inline\n",
    "%config InlineBackend.figure_format = 'retina'\n",
    "plt.style.use(['seaborn-notebook']) # see plt.style.available"
   ]
  },
  {
   "cell_type": "code",
   "execution_count": 21,
   "metadata": {},
   "outputs": [
    {
     "data": {
      "text/html": [
       "<div>\n",
       "<style scoped>\n",
       "    .dataframe tbody tr th:only-of-type {\n",
       "        vertical-align: middle;\n",
       "    }\n",
       "\n",
       "    .dataframe tbody tr th {\n",
       "        vertical-align: top;\n",
       "    }\n",
       "\n",
       "    .dataframe thead th {\n",
       "        text-align: right;\n",
       "    }\n",
       "</style>\n",
       "<table border=\"1\" class=\"dataframe\">\n",
       "  <thead>\n",
       "    <tr style=\"text-align: right;\">\n",
       "      <th></th>\n",
       "      <th>precision</th>\n",
       "      <th>item_alpha</th>\n",
       "      <th>rank</th>\n",
       "      <th>epochs</th>\n",
       "      <th>metrics</th>\n",
       "    </tr>\n",
       "  </thead>\n",
       "  <tbody>\n",
       "    <tr>\n",
       "      <th>92</th>\n",
       "      <td>0.033974</td>\n",
       "      <td>2.986615e-07</td>\n",
       "      <td>6</td>\n",
       "      <td>100</td>\n",
       "      <td>[(0.03397402597402597, 0.25204923647780786, No...</td>\n",
       "    </tr>\n",
       "    <tr>\n",
       "      <th>99</th>\n",
       "      <td>0.034078</td>\n",
       "      <td>1.901221e-06</td>\n",
       "      <td>12</td>\n",
       "      <td>100</td>\n",
       "      <td>[(0.034077922077922075, 0.25326630512344794, N...</td>\n",
       "    </tr>\n",
       "    <tr>\n",
       "      <th>53</th>\n",
       "      <td>0.034078</td>\n",
       "      <td>5.043306e-06</td>\n",
       "      <td>25</td>\n",
       "      <td>25</td>\n",
       "      <td>[(0.034077922077922075, 0.2526167166167166, No...</td>\n",
       "    </tr>\n",
       "    <tr>\n",
       "      <th>60</th>\n",
       "      <td>0.034234</td>\n",
       "      <td>3.091518e-09</td>\n",
       "      <td>9</td>\n",
       "      <td>50</td>\n",
       "      <td>[(0.034233766233766234, 0.2541265401265401, No...</td>\n",
       "    </tr>\n",
       "    <tr>\n",
       "      <th>91</th>\n",
       "      <td>0.034390</td>\n",
       "      <td>7.262623e-07</td>\n",
       "      <td>9</td>\n",
       "      <td>100</td>\n",
       "      <td>[(0.034389610389610394, 0.2558374958374958, No...</td>\n",
       "    </tr>\n",
       "  </tbody>\n",
       "</table>\n",
       "</div>"
      ],
      "text/plain": [
       "    precision    item_alpha  rank  epochs  \\\n",
       "92   0.033974  2.986615e-07     6     100   \n",
       "99   0.034078  1.901221e-06    12     100   \n",
       "53   0.034078  5.043306e-06    25      25   \n",
       "60   0.034234  3.091518e-09     9      50   \n",
       "91   0.034390  7.262623e-07     9     100   \n",
       "\n",
       "                                              metrics  \n",
       "92  [(0.03397402597402597, 0.25204923647780786, No...  \n",
       "99  [(0.034077922077922075, 0.25326630512344794, N...  \n",
       "53  [(0.034077922077922075, 0.2526167166167166, No...  \n",
       "60  [(0.034233766233766234, 0.2541265401265401, No...  \n",
       "91  [(0.034389610389610394, 0.2558374958374958, No...  "
      ]
     },
     "execution_count": 21,
     "metadata": {},
     "output_type": "execute_result"
    }
   ],
   "source": [
    "trials_df = (study.trials_dataframe() # all trials history\n",
    "             .loc[:, ['value', 'params', 'user_attrs']]\n",
    "             .rename(columns={'': target_metric}))\n",
    "trials_df.columns = trials_df.columns.get_level_values(1)\n",
    "trials_df.sort_values('precision').tail()"
   ]
  },
  {
   "cell_type": "markdown",
   "metadata": {},
   "source": [
    "We will treat low-score points (likely obtained at the initial tuning stage) as outliers and only take into account the top-20% results."
   ]
  },
  {
   "cell_type": "code",
   "execution_count": 22,
   "metadata": {},
   "outputs": [
    {
     "data": {
      "image/png": "[encoded data removed]",
      "text/plain": [
       "<Figure size 432x288 with 1 Axes>"
      ]
     },
     "metadata": {
      "image/png": {
       "height": 279,
       "width": 399
      },
      "needs_background": "light"
     },
     "output_type": "display_data"
    }
   ],
   "source": [
    "# take only top-20% of the points for analysis\n",
    "(trials_df.query(f'{target_metric}>{0.8*study.best_value}')\n",
    "          .boxplot(column=target_metric, by='epochs', grid=False))\n",
    "plt.suptitle(''); # hide auto-generated box-plot title"
   ]
  },
  {
   "cell_type": "markdown",
   "metadata": {},
   "source": [
    "Even though this plot is not suitable for making conclusions about the *actual perfromance* of the LightFM model, it roughly indicates that, *with the current selection of optimization mechanism*, **increasing the number of epochs further is unlikely to significantly improve the quality of predictions**. In other words, our tuning procedure reached a nearly stable state and, most likely, it is somewhere close to a local optimum. We will, therefore, proceed with the best found configuration without any further adjustments. Below is a characterizing plot of all trials."
   ]
  },
  {
   "cell_type": "code",
   "execution_count": 23,
   "metadata": {},
   "outputs": [
    {
     "data": {
      "image/png": "[encoded data removed]",
      "text/plain": [
       "<Figure size 720x360 with 2 Axes>"
      ]
     },
     "metadata": {
      "image/png": {
       "height": 335,
       "width": 600
      },
      "needs_background": "light"
     },
     "output_type": "display_data"
    }
   ],
   "source": [
    "plt.figure(figsize=(10, 5))\n",
    "# limit plot display region\n",
    "plt.xlim(0, 50)\n",
    "plt.ylim(0.8*study.best_value, study.best_value + 0.002)\n",
    "# plot points\n",
    "marker_scale = 5\n",
    "sc = plt.scatter(\n",
    "    trials_df['rank'], trials_df[target_metric],\n",
    "    # circle size indicates the number of epochs \n",
    "    s=trials_df['epochs']*marker_scale,\n",
    "    # color encodes the value of item_alpha (logscale)\n",
    "    c=np.log10(trials_df['item_alpha']),\n",
    "    alpha=0.5, cmap=\"viridis\", marker='o'\n",
    ")\n",
    "# prepare legend handles for each number of epochs\n",
    "legend_labels = n_trials.keys()\n",
    "legend_handles = [\n",
    "    plt.scatter([], [], s=n_epochs*marker_scale, marker='o',\n",
    "                color='lightgrey', edgecolors='darkgrey')\n",
    "    for n_epochs in legend_labels\n",
    "]\n",
    "# add legend, ensuring 1:1 scale with the main plot\n",
    "plt.legend(\n",
    "    legend_handles, legend_labels,\n",
    "    scatterpoints=1, ncol=len(legend_labels),\n",
    "    title='# epochs', borderpad=1.1,\n",
    "    labelspacing=1.5, markerscale=1,\n",
    "    loc='lower right'\n",
    ")    \n",
    "# add colorbar for item_alpha values\n",
    "clb = plt.colorbar(sc)\n",
    "clb.set_label('item_alpha, [log10]', rotation=-90, labelpad=20)\n",
    "# annotate plot\n",
    "plt.title('LightFM hyper-parameters tuning')\n",
    "plt.xlabel('rank')\n",
    "plt.ylabel(target_metric);"
   ]
  },
  {
   "cell_type": "markdown",
   "metadata": {},
   "source": [
    "We see that even lower values of the number of epochs produce a relatively good score, whcih also supports the assumption that we have probably found nearly optimal values. **How good is this result?** To answer that question we need to introduce the baselines.  "
   ]
  },
  {
   "cell_type": "markdown",
   "metadata": {},
   "source": [
    "## PureSVD"
   ]
  },
  {
   "cell_type": "markdown",
   "metadata": {},
   "source": [
    "This will be our first baseline. We will simply reuse the scaled version of PureSVD which has shown to perform very competitively with other models. For more details, see the  \"[Reproducing EIGENREC results](https://github.com/evfro/polara/blob/master/examples/Reproducing_EIGENREC_results.ipynb)\" tutorial. The only difference is that the model is additionally adopted for the cold start evaluation scenario. In this modification the latent representation $v$ of a cold item can be obtained by solving the following linear system:\n",
    "$$\n",
    "W^\\top v = f,\n",
    "$$\n",
    "where $f$ is a one-hot vector of real item features (tags in our case), and $W=V^\\top F$ is a precomputed linear mapping between the learned latent space represented by the right singular vectors $V$ and the feature matrix $F$ (the one-hot encoding of tags for known items). Everything here can be calculated efficiently. For more details I invite you to check [our paper](https://arxiv.org/abs/1802.06398). After you find the latent representation of a cold item, you can utilize the standard notion of a scalar product to find relevant users. "
   ]
  },
  {
   "cell_type": "markdown",
   "metadata": {},
   "source": [
    "### The model"
   ]
  },
  {
   "cell_type": "markdown",
   "metadata": {},
   "source": [
    "In the cold start scenario the model depends on side features (needed to construct the matrix $F$). This informaion can be provided via an input argument during instantiation of the model itself. An alternative and more robust way used here is to provide features in the data model constructor. Hence, the required `item_tags` variable  will be taken from the `data_model` object."
   ]
  },
  {
   "cell_type": "code",
   "execution_count": 24,
   "metadata": {},
   "outputs": [],
   "source": [
    "from polara.recommender.coldstart.models import ScaledSVDItemColdStart"
   ]
  },
  {
   "cell_type": "code",
   "execution_count": 25,
   "metadata": {},
   "outputs": [],
   "source": [
    "svd = ScaledSVDItemColdStart(data_model)"
   ]
  },
  {
   "cell_type": "markdown",
   "metadata": {},
   "source": [
    "### Tuning"
   ]
  },
  {
   "cell_type": "markdown",
   "metadata": {},
   "source": [
    "Computing and evaluating SVD is going to be blazingly fast as the dataset is small and the model is computed only once for every scaling value due to a simple rank truncation procedure. Hence, we can create a very dense parameter grid, which can still be greedily explored with the grid-search in a reasonable amount of time."
   ]
  },
  {
   "cell_type": "code",
   "execution_count": 26,
   "metadata": {},
   "outputs": [],
   "source": [
    "from polara.evaluation.pipelines import find_optimal_config # generic routine for grid-search"
   ]
  },
  {
   "cell_type": "code",
   "execution_count": 27,
   "metadata": {},
   "outputs": [],
   "source": [
    "def fine_tune_scaledsvd(model, ranks, scale_params, target_metric):\n",
    "    'Efficiently tuning SVD rank for different scaling parameter values.'\n",
    "    # descending order helps avoiding model recomputation\n",
    "    rev_ranks = sorted(ranks, key=lambda x: -x)\n",
    "    param_grid = [(s, r) for s in scale_params for r in rev_ranks]\n",
    "    param_names = ('col_scaling', 'rank')\n",
    "    config, scores = find_optimal_config(\n",
    "        model, param_grid, param_names, target_metric,\n",
    "        return_scores=True, force_build=False, iterator=track\n",
    "    )\n",
    "    return config, scores"
   ]
  },
  {
   "cell_type": "code",
   "execution_count": 28,
   "metadata": {},
   "outputs": [],
   "source": [
    "# define the hyper-parameters grid\n",
    "rank_grid = [1,] + list(range(5, max_rank+1, 5)) # 1, 5, 10, ..., max_rank\n",
    "scaling_grid = [-0.8, -0.6, -0.4, -0.2, 0.0, 0.2, 0.4, 0.6, 0.8] # 1.0 is for PureSVD"
   ]
  },
  {
   "cell_type": "code",
   "execution_count": 29,
   "metadata": {},
   "outputs": [
    {
     "data": {
      "text/html": [
       "<div><span class=\"Text-label\" style=\"display:inline-block; overflow:hidden; white-space:nowrap; text-overflow:ellipsis; min-width:0; max-width:10ex; vertical-align:middle; text-align:right\"></span>\n",
       "<progress style=\"width:60ex\" max=\"369\" value=\"369\" class=\"Progress-main\"/></progress>\n",
       "<span class=\"Progress-label\"><strong>100%</strong></span>\n",
       "<span class=\"Iteration-label\">369/369</span>\n",
       "<span class=\"Time-label\">[01:06<00:00, 0.18s/it]</span></div>"
      ],
      "text/plain": [
       "\u001b[A\u001b[2K\r",
       " [████████████████████████████████████████████████████████████] 369/369 [01:06<00:00, 0.18s/it]"
      ]
     },
     "metadata": {},
     "output_type": "display_data"
    }
   ],
   "source": [
    "# perform tuning\n",
    "svd_best_config, svd_scores = fine_tune_scaledsvd(\n",
    "    svd, rank_grid, scaling_grid, target_metric\n",
    ")"
   ]
  },
  {
   "cell_type": "code",
   "execution_count": 30,
   "metadata": {},
   "outputs": [
    {
     "name": "stdout",
     "output_type": "stream",
     "text": [
      "The best value of precision=0.0298 was achieved with rank=45 and scaling parameter=0.6.\n"
     ]
    }
   ],
   "source": [
    "print(f'The best value of {target_metric}={svd_scores.max():.4f} was achieved with '\n",
    "      f'rank={svd_best_config[\"rank\"]} and scaling parameter={svd_best_config[\"col_scaling\"]}.')"
   ]
  },
  {
   "cell_type": "markdown",
   "metadata": {},
   "source": [
    "Recall, the result is fully deterministic and reproducible in this case."
   ]
  },
  {
   "cell_type": "markdown",
   "metadata": {},
   "source": [
    "### Visualizing tuning results"
   ]
  },
  {
   "cell_type": "markdown",
   "metadata": {},
   "source": [
    "The resulting hyper-parameter search grid can be conveniently represented as a heatmap:"
   ]
  },
  {
   "cell_type": "code",
   "execution_count": 31,
   "metadata": {},
   "outputs": [
    {
     "data": {
      "text/html": [
       "<style  type=\"text/css\" >\n",
       "    #T_64ba9ee4_d484_11e9_a828_7fac66d098b2row0_col0 {\n",
       "            background-color:  #440154;\n",
       "            color:  #f1f1f1;\n",
       "        }    #T_64ba9ee4_d484_11e9_a828_7fac66d098b2row0_col1 {\n",
       "            background-color:  #481b6d;\n",
       "            color:  #f1f1f1;\n",
       "        }    #T_64ba9ee4_d484_11e9_a828_7fac66d098b2row0_col2 {\n",
       "            background-color:  #481b6d;\n",
       "            color:  #f1f1f1;\n",
       "        }    #T_64ba9ee4_d484_11e9_a828_7fac66d098b2row0_col3 {\n",
       "            background-color:  #481b6d;\n",
       "            color:  #f1f1f1;\n",
       "        }    #T_64ba9ee4_d484_11e9_a828_7fac66d098b2row0_col4 {\n",
       "            background-color:  #481b6d;\n",
       "            color:  #f1f1f1;\n",
       "        }    #T_64ba9ee4_d484_11e9_a828_7fac66d098b2row0_col5 {\n",
       "            background-color:  #481b6d;\n",
       "            color:  #f1f1f1;\n",
       "        }    #T_64ba9ee4_d484_11e9_a828_7fac66d098b2row0_col6 {\n",
       "            background-color:  #481b6d;\n",
       "            color:  #f1f1f1;\n",
       "        }    #T_64ba9ee4_d484_11e9_a828_7fac66d098b2row0_col7 {\n",
       "            background-color:  #481b6d;\n",
       "            color:  #f1f1f1;\n",
       "        }    #T_64ba9ee4_d484_11e9_a828_7fac66d098b2row0_col8 {\n",
       "            background-color:  #481b6d;\n",
       "            color:  #f1f1f1;\n",
       "        }    #T_64ba9ee4_d484_11e9_a828_7fac66d098b2row1_col0 {\n",
       "            background-color:  #306a8e;\n",
       "            color:  #f1f1f1;\n",
       "        }    #T_64ba9ee4_d484_11e9_a828_7fac66d098b2row1_col1 {\n",
       "            background-color:  #31668e;\n",
       "            color:  #f1f1f1;\n",
       "        }    #T_64ba9ee4_d484_11e9_a828_7fac66d098b2row1_col2 {\n",
       "            background-color:  #2d708e;\n",
       "            color:  #f1f1f1;\n",
       "        }    #T_64ba9ee4_d484_11e9_a828_7fac66d098b2row1_col3 {\n",
       "            background-color:  #287d8e;\n",
       "            color:  #000000;\n",
       "        }    #T_64ba9ee4_d484_11e9_a828_7fac66d098b2row1_col4 {\n",
       "            background-color:  #2a778e;\n",
       "            color:  #000000;\n",
       "        }    #T_64ba9ee4_d484_11e9_a828_7fac66d098b2row1_col5 {\n",
       "            background-color:  #2b758e;\n",
       "            color:  #f1f1f1;\n",
       "        }    #T_64ba9ee4_d484_11e9_a828_7fac66d098b2row1_col6 {\n",
       "            background-color:  #2a788e;\n",
       "            color:  #000000;\n",
       "        }    #T_64ba9ee4_d484_11e9_a828_7fac66d098b2row1_col7 {\n",
       "            background-color:  #26828e;\n",
       "            color:  #000000;\n",
       "        }    #T_64ba9ee4_d484_11e9_a828_7fac66d098b2row1_col8 {\n",
       "            background-color:  #21918c;\n",
       "            color:  #000000;\n",
       "        }    #T_64ba9ee4_d484_11e9_a828_7fac66d098b2row2_col0 {\n",
       "            background-color:  #228b8d;\n",
       "            color:  #000000;\n",
       "        }    #T_64ba9ee4_d484_11e9_a828_7fac66d098b2row2_col1 {\n",
       "            background-color:  #228d8d;\n",
       "            color:  #000000;\n",
       "        }    #T_64ba9ee4_d484_11e9_a828_7fac66d098b2row2_col2 {\n",
       "            background-color:  #20928c;\n",
       "            color:  #000000;\n",
       "        }    #T_64ba9ee4_d484_11e9_a828_7fac66d098b2row2_col3 {\n",
       "            background-color:  #21908d;\n",
       "            color:  #000000;\n",
       "        }    #T_64ba9ee4_d484_11e9_a828_7fac66d098b2row2_col4 {\n",
       "            background-color:  #20938c;\n",
       "            color:  #000000;\n",
       "        }    #T_64ba9ee4_d484_11e9_a828_7fac66d098b2row2_col5 {\n",
       "            background-color:  #21908d;\n",
       "            color:  #000000;\n",
       "        }    #T_64ba9ee4_d484_11e9_a828_7fac66d098b2row2_col6 {\n",
       "            background-color:  #2fb47c;\n",
       "            color:  #000000;\n",
       "        }    #T_64ba9ee4_d484_11e9_a828_7fac66d098b2row2_col7 {\n",
       "            background-color:  #31b57b;\n",
       "            color:  #000000;\n",
       "        }    #T_64ba9ee4_d484_11e9_a828_7fac66d098b2row2_col8 {\n",
       "            background-color:  #20a386;\n",
       "            color:  #000000;\n",
       "        }    #T_64ba9ee4_d484_11e9_a828_7fac66d098b2row3_col0 {\n",
       "            background-color:  #75d054;\n",
       "            color:  #000000;\n",
       "        }    #T_64ba9ee4_d484_11e9_a828_7fac66d098b2row3_col1 {\n",
       "            background-color:  #58c765;\n",
       "            color:  #000000;\n",
       "        }    #T_64ba9ee4_d484_11e9_a828_7fac66d098b2row3_col2 {\n",
       "            background-color:  #5ec962;\n",
       "            color:  #000000;\n",
       "        }    #T_64ba9ee4_d484_11e9_a828_7fac66d098b2row3_col3 {\n",
       "            background-color:  #5ac864;\n",
       "            color:  #000000;\n",
       "        }    #T_64ba9ee4_d484_11e9_a828_7fac66d098b2row3_col4 {\n",
       "            background-color:  #60ca60;\n",
       "            color:  #000000;\n",
       "        }    #T_64ba9ee4_d484_11e9_a828_7fac66d098b2row3_col5 {\n",
       "            background-color:  #5ec962;\n",
       "            color:  #000000;\n",
       "        }    #T_64ba9ee4_d484_11e9_a828_7fac66d098b2row3_col6 {\n",
       "            background-color:  #5ec962;\n",
       "            color:  #000000;\n",
       "        }    #T_64ba9ee4_d484_11e9_a828_7fac66d098b2row3_col7 {\n",
       "            background-color:  #90d743;\n",
       "            color:  #000000;\n",
       "        }    #T_64ba9ee4_d484_11e9_a828_7fac66d098b2row3_col8 {\n",
       "            background-color:  #52c569;\n",
       "            color:  #000000;\n",
       "        }    #T_64ba9ee4_d484_11e9_a828_7fac66d098b2row4_col0 {\n",
       "            background-color:  #42be71;\n",
       "            color:  #000000;\n",
       "        }    #T_64ba9ee4_d484_11e9_a828_7fac66d098b2row4_col1 {\n",
       "            background-color:  #42be71;\n",
       "            color:  #000000;\n",
       "        }    #T_64ba9ee4_d484_11e9_a828_7fac66d098b2row4_col2 {\n",
       "            background-color:  #48c16e;\n",
       "            color:  #000000;\n",
       "        }    #T_64ba9ee4_d484_11e9_a828_7fac66d098b2row4_col3 {\n",
       "            background-color:  #54c568;\n",
       "            color:  #000000;\n",
       "        }    #T_64ba9ee4_d484_11e9_a828_7fac66d098b2row4_col4 {\n",
       "            background-color:  #58c765;\n",
       "            color:  #000000;\n",
       "        }    #T_64ba9ee4_d484_11e9_a828_7fac66d098b2row4_col5 {\n",
       "            background-color:  #67cc5c;\n",
       "            color:  #000000;\n",
       "        }    #T_64ba9ee4_d484_11e9_a828_7fac66d098b2row4_col6 {\n",
       "            background-color:  #42be71;\n",
       "            color:  #000000;\n",
       "        }    #T_64ba9ee4_d484_11e9_a828_7fac66d098b2row4_col7 {\n",
       "            background-color:  #40bd72;\n",
       "            color:  #000000;\n",
       "        }    #T_64ba9ee4_d484_11e9_a828_7fac66d098b2row4_col8 {\n",
       "            background-color:  #48c16e;\n",
       "            color:  #000000;\n",
       "        }    #T_64ba9ee4_d484_11e9_a828_7fac66d098b2row5_col0 {\n",
       "            background-color:  #28ae80;\n",
       "            color:  #000000;\n",
       "        }    #T_64ba9ee4_d484_11e9_a828_7fac66d098b2row5_col1 {\n",
       "            background-color:  #28ae80;\n",
       "            color:  #000000;\n",
       "        }    #T_64ba9ee4_d484_11e9_a828_7fac66d098b2row5_col2 {\n",
       "            background-color:  #2db27d;\n",
       "            color:  #000000;\n",
       "        }    #T_64ba9ee4_d484_11e9_a828_7fac66d098b2row5_col3 {\n",
       "            background-color:  #34b679;\n",
       "            color:  #000000;\n",
       "        }    #T_64ba9ee4_d484_11e9_a828_7fac66d098b2row5_col4 {\n",
       "            background-color:  #3dbc74;\n",
       "            color:  #000000;\n",
       "        }    #T_64ba9ee4_d484_11e9_a828_7fac66d098b2row5_col5 {\n",
       "            background-color:  #48c16e;\n",
       "            color:  #000000;\n",
       "        }    #T_64ba9ee4_d484_11e9_a828_7fac66d098b2row5_col6 {\n",
       "            background-color:  #42be71;\n",
       "            color:  #000000;\n",
       "        }    #T_64ba9ee4_d484_11e9_a828_7fac66d098b2row5_col7 {\n",
       "            background-color:  #42be71;\n",
       "            color:  #000000;\n",
       "        }    #T_64ba9ee4_d484_11e9_a828_7fac66d098b2row5_col8 {\n",
       "            background-color:  #65cb5e;\n",
       "            color:  #000000;\n",
       "        }    #T_64ba9ee4_d484_11e9_a828_7fac66d098b2row6_col0 {\n",
       "            background-color:  #28ae80;\n",
       "            color:  #000000;\n",
       "        }    #T_64ba9ee4_d484_11e9_a828_7fac66d098b2row6_col1 {\n",
       "            background-color:  #21a685;\n",
       "            color:  #000000;\n",
       "        }    #T_64ba9ee4_d484_11e9_a828_7fac66d098b2row6_col2 {\n",
       "            background-color:  #21a685;\n",
       "            color:  #000000;\n",
       "        }    #T_64ba9ee4_d484_11e9_a828_7fac66d098b2row6_col3 {\n",
       "            background-color:  #23a983;\n",
       "            color:  #000000;\n",
       "        }    #T_64ba9ee4_d484_11e9_a828_7fac66d098b2row6_col4 {\n",
       "            background-color:  #24aa83;\n",
       "            color:  #000000;\n",
       "        }    #T_64ba9ee4_d484_11e9_a828_7fac66d098b2row6_col5 {\n",
       "            background-color:  #2fb47c;\n",
       "            color:  #000000;\n",
       "        }    #T_64ba9ee4_d484_11e9_a828_7fac66d098b2row6_col6 {\n",
       "            background-color:  #28ae80;\n",
       "            color:  #000000;\n",
       "        }    #T_64ba9ee4_d484_11e9_a828_7fac66d098b2row6_col7 {\n",
       "            background-color:  #34b679;\n",
       "            color:  #000000;\n",
       "        }    #T_64ba9ee4_d484_11e9_a828_7fac66d098b2row6_col8 {\n",
       "            background-color:  #3dbc74;\n",
       "            color:  #000000;\n",
       "        }    #T_64ba9ee4_d484_11e9_a828_7fac66d098b2row7_col0 {\n",
       "            background-color:  #28ae80;\n",
       "            color:  #000000;\n",
       "        }    #T_64ba9ee4_d484_11e9_a828_7fac66d098b2row7_col1 {\n",
       "            background-color:  #28ae80;\n",
       "            color:  #000000;\n",
       "        }    #T_64ba9ee4_d484_11e9_a828_7fac66d098b2row7_col2 {\n",
       "            background-color:  #38b977;\n",
       "            color:  #000000;\n",
       "        }    #T_64ba9ee4_d484_11e9_a828_7fac66d098b2row7_col3 {\n",
       "            background-color:  #31b57b;\n",
       "            color:  #000000;\n",
       "        }    #T_64ba9ee4_d484_11e9_a828_7fac66d098b2row7_col4 {\n",
       "            background-color:  #3aba76;\n",
       "            color:  #000000;\n",
       "        }    #T_64ba9ee4_d484_11e9_a828_7fac66d098b2row7_col5 {\n",
       "            background-color:  #34b679;\n",
       "            color:  #000000;\n",
       "        }    #T_64ba9ee4_d484_11e9_a828_7fac66d098b2row7_col6 {\n",
       "            background-color:  #40bd72;\n",
       "            color:  #000000;\n",
       "        }    #T_64ba9ee4_d484_11e9_a828_7fac66d098b2row7_col7 {\n",
       "            background-color:  #48c16e;\n",
       "            color:  #000000;\n",
       "        }    #T_64ba9ee4_d484_11e9_a828_7fac66d098b2row7_col8 {\n",
       "            background-color:  #46c06f;\n",
       "            color:  #000000;\n",
       "        }    #T_64ba9ee4_d484_11e9_a828_7fac66d098b2row8_col0 {\n",
       "            background-color:  #28ae80;\n",
       "            color:  #000000;\n",
       "        }    #T_64ba9ee4_d484_11e9_a828_7fac66d098b2row8_col1 {\n",
       "            background-color:  #28ae80;\n",
       "            color:  #000000;\n",
       "        }    #T_64ba9ee4_d484_11e9_a828_7fac66d098b2row8_col2 {\n",
       "            background-color:  #21a685;\n",
       "            color:  #000000;\n",
       "        }    #T_64ba9ee4_d484_11e9_a828_7fac66d098b2row8_col3 {\n",
       "            background-color:  #21a685;\n",
       "            color:  #000000;\n",
       "        }    #T_64ba9ee4_d484_11e9_a828_7fac66d098b2row8_col4 {\n",
       "            background-color:  #2cb17e;\n",
       "            color:  #000000;\n",
       "        }    #T_64ba9ee4_d484_11e9_a828_7fac66d098b2row8_col5 {\n",
       "            background-color:  #31b57b;\n",
       "            color:  #000000;\n",
       "        }    #T_64ba9ee4_d484_11e9_a828_7fac66d098b2row8_col6 {\n",
       "            background-color:  #31b57b;\n",
       "            color:  #000000;\n",
       "        }    #T_64ba9ee4_d484_11e9_a828_7fac66d098b2row8_col7 {\n",
       "            background-color:  #2cb17e;\n",
       "            color:  #000000;\n",
       "        }    #T_64ba9ee4_d484_11e9_a828_7fac66d098b2row8_col8 {\n",
       "            background-color:  #2fb47c;\n",
       "            color:  #000000;\n",
       "        }    #T_64ba9ee4_d484_11e9_a828_7fac66d098b2row9_col0 {\n",
       "            background-color:  #1f958b;\n",
       "            color:  #000000;\n",
       "        }    #T_64ba9ee4_d484_11e9_a828_7fac66d098b2row9_col1 {\n",
       "            background-color:  #1f968b;\n",
       "            color:  #000000;\n",
       "        }    #T_64ba9ee4_d484_11e9_a828_7fac66d098b2row9_col2 {\n",
       "            background-color:  #1f998a;\n",
       "            color:  #000000;\n",
       "        }    #T_64ba9ee4_d484_11e9_a828_7fac66d098b2row9_col3 {\n",
       "            background-color:  #1f9f88;\n",
       "            color:  #000000;\n",
       "        }    #T_64ba9ee4_d484_11e9_a828_7fac66d098b2row9_col4 {\n",
       "            background-color:  #1f9e89;\n",
       "            color:  #000000;\n",
       "        }    #T_64ba9ee4_d484_11e9_a828_7fac66d098b2row9_col5 {\n",
       "            background-color:  #1f9e89;\n",
       "            color:  #000000;\n",
       "        }    #T_64ba9ee4_d484_11e9_a828_7fac66d098b2row9_col6 {\n",
       "            background-color:  #21a685;\n",
       "            color:  #000000;\n",
       "        }    #T_64ba9ee4_d484_11e9_a828_7fac66d098b2row9_col7 {\n",
       "            background-color:  #21a685;\n",
       "            color:  #000000;\n",
       "        }    #T_64ba9ee4_d484_11e9_a828_7fac66d098b2row9_col8 {\n",
       "            background-color:  #2cb17e;\n",
       "            color:  #000000;\n",
       "        }    #T_64ba9ee4_d484_11e9_a828_7fac66d098b2row10_col0 {\n",
       "            background-color:  #228b8d;\n",
       "            color:  #000000;\n",
       "        }    #T_64ba9ee4_d484_11e9_a828_7fac66d098b2row10_col1 {\n",
       "            background-color:  #21908d;\n",
       "            color:  #000000;\n",
       "        }    #T_64ba9ee4_d484_11e9_a828_7fac66d098b2row10_col2 {\n",
       "            background-color:  #1f998a;\n",
       "            color:  #000000;\n",
       "        }    #T_64ba9ee4_d484_11e9_a828_7fac66d098b2row10_col3 {\n",
       "            background-color:  #1e9c89;\n",
       "            color:  #000000;\n",
       "        }    #T_64ba9ee4_d484_11e9_a828_7fac66d098b2row10_col4 {\n",
       "            background-color:  #1f9e89;\n",
       "            color:  #000000;\n",
       "        }    #T_64ba9ee4_d484_11e9_a828_7fac66d098b2row10_col5 {\n",
       "            background-color:  #20a486;\n",
       "            color:  #000000;\n",
       "        }    #T_64ba9ee4_d484_11e9_a828_7fac66d098b2row10_col6 {\n",
       "            background-color:  #21a685;\n",
       "            color:  #000000;\n",
       "        }    #T_64ba9ee4_d484_11e9_a828_7fac66d098b2row10_col7 {\n",
       "            background-color:  #20a486;\n",
       "            color:  #000000;\n",
       "        }    #T_64ba9ee4_d484_11e9_a828_7fac66d098b2row10_col8 {\n",
       "            background-color:  #25ac82;\n",
       "            color:  #000000;\n",
       "        }    #T_64ba9ee4_d484_11e9_a828_7fac66d098b2row11_col0 {\n",
       "            background-color:  #25858e;\n",
       "            color:  #000000;\n",
       "        }    #T_64ba9ee4_d484_11e9_a828_7fac66d098b2row11_col1 {\n",
       "            background-color:  #21918c;\n",
       "            color:  #000000;\n",
       "        }    #T_64ba9ee4_d484_11e9_a828_7fac66d098b2row11_col2 {\n",
       "            background-color:  #228b8d;\n",
       "            color:  #000000;\n",
       "        }    #T_64ba9ee4_d484_11e9_a828_7fac66d098b2row11_col3 {\n",
       "            background-color:  #228d8d;\n",
       "            color:  #000000;\n",
       "        }    #T_64ba9ee4_d484_11e9_a828_7fac66d098b2row11_col4 {\n",
       "            background-color:  #218e8d;\n",
       "            color:  #000000;\n",
       "        }    #T_64ba9ee4_d484_11e9_a828_7fac66d098b2row11_col5 {\n",
       "            background-color:  #20a386;\n",
       "            color:  #000000;\n",
       "        }    #T_64ba9ee4_d484_11e9_a828_7fac66d098b2row11_col6 {\n",
       "            background-color:  #1e9c89;\n",
       "            color:  #000000;\n",
       "        }    #T_64ba9ee4_d484_11e9_a828_7fac66d098b2row11_col7 {\n",
       "            background-color:  #1fa188;\n",
       "            color:  #000000;\n",
       "        }    #T_64ba9ee4_d484_11e9_a828_7fac66d098b2row11_col8 {\n",
       "            background-color:  #20938c;\n",
       "            color:  #000000;\n",
       "        }    #T_64ba9ee4_d484_11e9_a828_7fac66d098b2row12_col0 {\n",
       "            background-color:  #2e6f8e;\n",
       "            color:  #f1f1f1;\n",
       "        }    #T_64ba9ee4_d484_11e9_a828_7fac66d098b2row12_col1 {\n",
       "            background-color:  #2c718e;\n",
       "            color:  #f1f1f1;\n",
       "        }    #T_64ba9ee4_d484_11e9_a828_7fac66d098b2row12_col2 {\n",
       "            background-color:  #287d8e;\n",
       "            color:  #000000;\n",
       "        }    #T_64ba9ee4_d484_11e9_a828_7fac66d098b2row12_col3 {\n",
       "            background-color:  #26828e;\n",
       "            color:  #000000;\n",
       "        }    #T_64ba9ee4_d484_11e9_a828_7fac66d098b2row12_col4 {\n",
       "            background-color:  #287d8e;\n",
       "            color:  #000000;\n",
       "        }    #T_64ba9ee4_d484_11e9_a828_7fac66d098b2row12_col5 {\n",
       "            background-color:  #277e8e;\n",
       "            color:  #000000;\n",
       "        }    #T_64ba9ee4_d484_11e9_a828_7fac66d098b2row12_col6 {\n",
       "            background-color:  #228b8d;\n",
       "            color:  #000000;\n",
       "        }    #T_64ba9ee4_d484_11e9_a828_7fac66d098b2row12_col7 {\n",
       "            background-color:  #21908d;\n",
       "            color:  #000000;\n",
       "        }    #T_64ba9ee4_d484_11e9_a828_7fac66d098b2row12_col8 {\n",
       "            background-color:  #1f9f88;\n",
       "            color:  #000000;\n",
       "        }    #T_64ba9ee4_d484_11e9_a828_7fac66d098b2row13_col0 {\n",
       "            background-color:  #33638d;\n",
       "            color:  #f1f1f1;\n",
       "        }    #T_64ba9ee4_d484_11e9_a828_7fac66d098b2row13_col1 {\n",
       "            background-color:  #34618d;\n",
       "            color:  #f1f1f1;\n",
       "        }    #T_64ba9ee4_d484_11e9_a828_7fac66d098b2row13_col2 {\n",
       "            background-color:  #31668e;\n",
       "            color:  #f1f1f1;\n",
       "        }    #T_64ba9ee4_d484_11e9_a828_7fac66d098b2row13_col3 {\n",
       "            background-color:  #2e6d8e;\n",
       "            color:  #f1f1f1;\n",
       "        }    #T_64ba9ee4_d484_11e9_a828_7fac66d098b2row13_col4 {\n",
       "            background-color:  #31678e;\n",
       "            color:  #f1f1f1;\n",
       "        }    #T_64ba9ee4_d484_11e9_a828_7fac66d098b2row13_col5 {\n",
       "            background-color:  #2b748e;\n",
       "            color:  #f1f1f1;\n",
       "        }    #T_64ba9ee4_d484_11e9_a828_7fac66d098b2row13_col6 {\n",
       "            background-color:  #26828e;\n",
       "            color:  #000000;\n",
       "        }    #T_64ba9ee4_d484_11e9_a828_7fac66d098b2row13_col7 {\n",
       "            background-color:  #2a788e;\n",
       "            color:  #000000;\n",
       "        }    #T_64ba9ee4_d484_11e9_a828_7fac66d098b2row13_col8 {\n",
       "            background-color:  #297b8e;\n",
       "            color:  #000000;\n",
       "        }</style><table id=\"T_64ba9ee4_d484_11e9_a828_7fac66d098b2\" ><thead>    <tr>        <th class=\"index_name level0\" >col_scaling</th>        <th class=\"col_heading level0 col0\" >-0.8</th>        <th class=\"col_heading level0 col1\" >-0.6</th>        <th class=\"col_heading level0 col2\" >-0.4</th>        <th class=\"col_heading level0 col3\" >-0.2</th>        <th class=\"col_heading level0 col4\" >0.0</th>        <th class=\"col_heading level0 col5\" >0.2</th>        <th class=\"col_heading level0 col6\" >0.4</th>        <th class=\"col_heading level0 col7\" >0.6</th>        <th class=\"col_heading level0 col8\" >0.8</th>    </tr>    <tr>        <th class=\"index_name level0\" >rank</th>        <th class=\"blank\" ></th>        <th class=\"blank\" ></th>        <th class=\"blank\" ></th>        <th class=\"blank\" ></th>        <th class=\"blank\" ></th>        <th class=\"blank\" ></th>        <th class=\"blank\" ></th>        <th class=\"blank\" ></th>        <th class=\"blank\" ></th>    </tr></thead><tbody>\n",
       "                <tr>\n",
       "                        <th id=\"T_64ba9ee4_d484_11e9_a828_7fac66d098b2level0_row0\" class=\"row_heading level0 row0\" >1</th>\n",
       "                        <td id=\"T_64ba9ee4_d484_11e9_a828_7fac66d098b2row0_col0\" class=\"data row0 col0\" >0.0224</td>\n",
       "                        <td id=\"T_64ba9ee4_d484_11e9_a828_7fac66d098b2row0_col1\" class=\"data row0 col1\" >0.0231</td>\n",
       "                        <td id=\"T_64ba9ee4_d484_11e9_a828_7fac66d098b2row0_col2\" class=\"data row0 col2\" >0.0231</td>\n",
       "                        <td id=\"T_64ba9ee4_d484_11e9_a828_7fac66d098b2row0_col3\" class=\"data row0 col3\" >0.0231</td>\n",
       "                        <td id=\"T_64ba9ee4_d484_11e9_a828_7fac66d098b2row0_col4\" class=\"data row0 col4\" >0.0231</td>\n",
       "                        <td id=\"T_64ba9ee4_d484_11e9_a828_7fac66d098b2row0_col5\" class=\"data row0 col5\" >0.0231</td>\n",
       "                        <td id=\"T_64ba9ee4_d484_11e9_a828_7fac66d098b2row0_col6\" class=\"data row0 col6\" >0.0231</td>\n",
       "                        <td id=\"T_64ba9ee4_d484_11e9_a828_7fac66d098b2row0_col7\" class=\"data row0 col7\" >0.0231</td>\n",
       "                        <td id=\"T_64ba9ee4_d484_11e9_a828_7fac66d098b2row0_col8\" class=\"data row0 col8\" >0.0231</td>\n",
       "            </tr>\n",
       "            <tr>\n",
       "                        <th id=\"T_64ba9ee4_d484_11e9_a828_7fac66d098b2level0_row1\" class=\"row_heading level0 row1\" >15</th>\n",
       "                        <td id=\"T_64ba9ee4_d484_11e9_a828_7fac66d098b2row1_col0\" class=\"data row1 col0\" >0.0255</td>\n",
       "                        <td id=\"T_64ba9ee4_d484_11e9_a828_7fac66d098b2row1_col1\" class=\"data row1 col1\" >0.0253</td>\n",
       "                        <td id=\"T_64ba9ee4_d484_11e9_a828_7fac66d098b2row1_col2\" class=\"data row1 col2\" >0.0257</td>\n",
       "                        <td id=\"T_64ba9ee4_d484_11e9_a828_7fac66d098b2row1_col3\" class=\"data row1 col3\" >0.0261</td>\n",
       "                        <td id=\"T_64ba9ee4_d484_11e9_a828_7fac66d098b2row1_col4\" class=\"data row1 col4\" >0.0259</td>\n",
       "                        <td id=\"T_64ba9ee4_d484_11e9_a828_7fac66d098b2row1_col5\" class=\"data row1 col5\" >0.0259</td>\n",
       "                        <td id=\"T_64ba9ee4_d484_11e9_a828_7fac66d098b2row1_col6\" class=\"data row1 col6\" >0.0260</td>\n",
       "                        <td id=\"T_64ba9ee4_d484_11e9_a828_7fac66d098b2row1_col7\" class=\"data row1 col7\" >0.0263</td>\n",
       "                        <td id=\"T_64ba9ee4_d484_11e9_a828_7fac66d098b2row1_col8\" class=\"data row1 col8\" >0.0269</td>\n",
       "            </tr>\n",
       "            <tr>\n",
       "                        <th id=\"T_64ba9ee4_d484_11e9_a828_7fac66d098b2level0_row2\" class=\"row_heading level0 row2\" >30</th>\n",
       "                        <td id=\"T_64ba9ee4_d484_11e9_a828_7fac66d098b2row2_col0\" class=\"data row2 col0\" >0.0266</td>\n",
       "                        <td id=\"T_64ba9ee4_d484_11e9_a828_7fac66d098b2row2_col1\" class=\"data row2 col1\" >0.0267</td>\n",
       "                        <td id=\"T_64ba9ee4_d484_11e9_a828_7fac66d098b2row2_col2\" class=\"data row2 col2\" >0.0269</td>\n",
       "                        <td id=\"T_64ba9ee4_d484_11e9_a828_7fac66d098b2row2_col3\" class=\"data row2 col3\" >0.0268</td>\n",
       "                        <td id=\"T_64ba9ee4_d484_11e9_a828_7fac66d098b2row2_col4\" class=\"data row2 col4\" >0.0270</td>\n",
       "                        <td id=\"T_64ba9ee4_d484_11e9_a828_7fac66d098b2row2_col5\" class=\"data row2 col5\" >0.0268</td>\n",
       "                        <td id=\"T_64ba9ee4_d484_11e9_a828_7fac66d098b2row2_col6\" class=\"data row2 col6\" >0.0282</td>\n",
       "                        <td id=\"T_64ba9ee4_d484_11e9_a828_7fac66d098b2row2_col7\" class=\"data row2 col7\" >0.0282</td>\n",
       "                        <td id=\"T_64ba9ee4_d484_11e9_a828_7fac66d098b2row2_col8\" class=\"data row2 col8\" >0.0275</td>\n",
       "            </tr>\n",
       "            <tr>\n",
       "                        <th id=\"T_64ba9ee4_d484_11e9_a828_7fac66d098b2level0_row3\" class=\"row_heading level0 row3\" >45</th>\n",
       "                        <td id=\"T_64ba9ee4_d484_11e9_a828_7fac66d098b2row3_col0\" class=\"data row3 col0\" >0.0294</td>\n",
       "                        <td id=\"T_64ba9ee4_d484_11e9_a828_7fac66d098b2row3_col1\" class=\"data row3 col1\" >0.0289</td>\n",
       "                        <td id=\"T_64ba9ee4_d484_11e9_a828_7fac66d098b2row3_col2\" class=\"data row3 col2\" >0.0290</td>\n",
       "                        <td id=\"T_64ba9ee4_d484_11e9_a828_7fac66d098b2row3_col3\" class=\"data row3 col3\" >0.0290</td>\n",
       "                        <td id=\"T_64ba9ee4_d484_11e9_a828_7fac66d098b2row3_col4\" class=\"data row3 col4\" >0.0291</td>\n",
       "                        <td id=\"T_64ba9ee4_d484_11e9_a828_7fac66d098b2row3_col5\" class=\"data row3 col5\" >0.0290</td>\n",
       "                        <td id=\"T_64ba9ee4_d484_11e9_a828_7fac66d098b2row3_col6\" class=\"data row3 col6\" >0.0290</td>\n",
       "                        <td id=\"T_64ba9ee4_d484_11e9_a828_7fac66d098b2row3_col7\" class=\"data row3 col7\" >0.0298</td>\n",
       "                        <td id=\"T_64ba9ee4_d484_11e9_a828_7fac66d098b2row3_col8\" class=\"data row3 col8\" >0.0288</td>\n",
       "            </tr>\n",
       "            <tr>\n",
       "                        <th id=\"T_64ba9ee4_d484_11e9_a828_7fac66d098b2level0_row4\" class=\"row_heading level0 row4\" >60</th>\n",
       "                        <td id=\"T_64ba9ee4_d484_11e9_a828_7fac66d098b2row4_col0\" class=\"data row4 col0\" >0.0286</td>\n",
       "                        <td id=\"T_64ba9ee4_d484_11e9_a828_7fac66d098b2row4_col1\" class=\"data row4 col1\" >0.0286</td>\n",
       "                        <td id=\"T_64ba9ee4_d484_11e9_a828_7fac66d098b2row4_col2\" class=\"data row4 col2\" >0.0287</td>\n",
       "                        <td id=\"T_64ba9ee4_d484_11e9_a828_7fac66d098b2row4_col3\" class=\"data row4 col3\" >0.0289</td>\n",
       "                        <td id=\"T_64ba9ee4_d484_11e9_a828_7fac66d098b2row4_col4\" class=\"data row4 col4\" >0.0289</td>\n",
       "                        <td id=\"T_64ba9ee4_d484_11e9_a828_7fac66d098b2row4_col5\" class=\"data row4 col5\" >0.0292</td>\n",
       "                        <td id=\"T_64ba9ee4_d484_11e9_a828_7fac66d098b2row4_col6\" class=\"data row4 col6\" >0.0286</td>\n",
       "                        <td id=\"T_64ba9ee4_d484_11e9_a828_7fac66d098b2row4_col7\" class=\"data row4 col7\" >0.0285</td>\n",
       "                        <td id=\"T_64ba9ee4_d484_11e9_a828_7fac66d098b2row4_col8\" class=\"data row4 col8\" >0.0287</td>\n",
       "            </tr>\n",
       "            <tr>\n",
       "                        <th id=\"T_64ba9ee4_d484_11e9_a828_7fac66d098b2level0_row5\" class=\"row_heading level0 row5\" >75</th>\n",
       "                        <td id=\"T_64ba9ee4_d484_11e9_a828_7fac66d098b2row5_col0\" class=\"data row5 col0\" >0.0279</td>\n",
       "                        <td id=\"T_64ba9ee4_d484_11e9_a828_7fac66d098b2row5_col1\" class=\"data row5 col1\" >0.0279</td>\n",
       "                        <td id=\"T_64ba9ee4_d484_11e9_a828_7fac66d098b2row5_col2\" class=\"data row5 col2\" >0.0281</td>\n",
       "                        <td id=\"T_64ba9ee4_d484_11e9_a828_7fac66d098b2row5_col3\" class=\"data row5 col3\" >0.0283</td>\n",
       "                        <td id=\"T_64ba9ee4_d484_11e9_a828_7fac66d098b2row5_col4\" class=\"data row5 col4\" >0.0285</td>\n",
       "                        <td id=\"T_64ba9ee4_d484_11e9_a828_7fac66d098b2row5_col5\" class=\"data row5 col5\" >0.0287</td>\n",
       "                        <td id=\"T_64ba9ee4_d484_11e9_a828_7fac66d098b2row5_col6\" class=\"data row5 col6\" >0.0286</td>\n",
       "                        <td id=\"T_64ba9ee4_d484_11e9_a828_7fac66d098b2row5_col7\" class=\"data row5 col7\" >0.0286</td>\n",
       "                        <td id=\"T_64ba9ee4_d484_11e9_a828_7fac66d098b2row5_col8\" class=\"data row5 col8\" >0.0291</td>\n",
       "            </tr>\n",
       "            <tr>\n",
       "                        <th id=\"T_64ba9ee4_d484_11e9_a828_7fac66d098b2level0_row6\" class=\"row_heading level0 row6\" >90</th>\n",
       "                        <td id=\"T_64ba9ee4_d484_11e9_a828_7fac66d098b2row6_col0\" class=\"data row6 col0\" >0.0279</td>\n",
       "                        <td id=\"T_64ba9ee4_d484_11e9_a828_7fac66d098b2row6_col1\" class=\"data row6 col1\" >0.0276</td>\n",
       "                        <td id=\"T_64ba9ee4_d484_11e9_a828_7fac66d098b2row6_col2\" class=\"data row6 col2\" >0.0276</td>\n",
       "                        <td id=\"T_64ba9ee4_d484_11e9_a828_7fac66d098b2row6_col3\" class=\"data row6 col3\" >0.0277</td>\n",
       "                        <td id=\"T_64ba9ee4_d484_11e9_a828_7fac66d098b2row6_col4\" class=\"data row6 col4\" >0.0278</td>\n",
       "                        <td id=\"T_64ba9ee4_d484_11e9_a828_7fac66d098b2row6_col5\" class=\"data row6 col5\" >0.0282</td>\n",
       "                        <td id=\"T_64ba9ee4_d484_11e9_a828_7fac66d098b2row6_col6\" class=\"data row6 col6\" >0.0279</td>\n",
       "                        <td id=\"T_64ba9ee4_d484_11e9_a828_7fac66d098b2row6_col7\" class=\"data row6 col7\" >0.0283</td>\n",
       "                        <td id=\"T_64ba9ee4_d484_11e9_a828_7fac66d098b2row6_col8\" class=\"data row6 col8\" >0.0285</td>\n",
       "            </tr>\n",
       "            <tr>\n",
       "                        <th id=\"T_64ba9ee4_d484_11e9_a828_7fac66d098b2level0_row7\" class=\"row_heading level0 row7\" >105</th>\n",
       "                        <td id=\"T_64ba9ee4_d484_11e9_a828_7fac66d098b2row7_col0\" class=\"data row7 col0\" >0.0279</td>\n",
       "                        <td id=\"T_64ba9ee4_d484_11e9_a828_7fac66d098b2row7_col1\" class=\"data row7 col1\" >0.0279</td>\n",
       "                        <td id=\"T_64ba9ee4_d484_11e9_a828_7fac66d098b2row7_col2\" class=\"data row7 col2\" >0.0284</td>\n",
       "                        <td id=\"T_64ba9ee4_d484_11e9_a828_7fac66d098b2row7_col3\" class=\"data row7 col3\" >0.0282</td>\n",
       "                        <td id=\"T_64ba9ee4_d484_11e9_a828_7fac66d098b2row7_col4\" class=\"data row7 col4\" >0.0284</td>\n",
       "                        <td id=\"T_64ba9ee4_d484_11e9_a828_7fac66d098b2row7_col5\" class=\"data row7 col5\" >0.0283</td>\n",
       "                        <td id=\"T_64ba9ee4_d484_11e9_a828_7fac66d098b2row7_col6\" class=\"data row7 col6\" >0.0285</td>\n",
       "                        <td id=\"T_64ba9ee4_d484_11e9_a828_7fac66d098b2row7_col7\" class=\"data row7 col7\" >0.0287</td>\n",
       "                        <td id=\"T_64ba9ee4_d484_11e9_a828_7fac66d098b2row7_col8\" class=\"data row7 col8\" >0.0286</td>\n",
       "            </tr>\n",
       "            <tr>\n",
       "                        <th id=\"T_64ba9ee4_d484_11e9_a828_7fac66d098b2level0_row8\" class=\"row_heading level0 row8\" >120</th>\n",
       "                        <td id=\"T_64ba9ee4_d484_11e9_a828_7fac66d098b2row8_col0\" class=\"data row8 col0\" >0.0279</td>\n",
       "                        <td id=\"T_64ba9ee4_d484_11e9_a828_7fac66d098b2row8_col1\" class=\"data row8 col1\" >0.0279</td>\n",
       "                        <td id=\"T_64ba9ee4_d484_11e9_a828_7fac66d098b2row8_col2\" class=\"data row8 col2\" >0.0276</td>\n",
       "                        <td id=\"T_64ba9ee4_d484_11e9_a828_7fac66d098b2row8_col3\" class=\"data row8 col3\" >0.0276</td>\n",
       "                        <td id=\"T_64ba9ee4_d484_11e9_a828_7fac66d098b2row8_col4\" class=\"data row8 col4\" >0.0281</td>\n",
       "                        <td id=\"T_64ba9ee4_d484_11e9_a828_7fac66d098b2row8_col5\" class=\"data row8 col5\" >0.0282</td>\n",
       "                        <td id=\"T_64ba9ee4_d484_11e9_a828_7fac66d098b2row8_col6\" class=\"data row8 col6\" >0.0282</td>\n",
       "                        <td id=\"T_64ba9ee4_d484_11e9_a828_7fac66d098b2row8_col7\" class=\"data row8 col7\" >0.0281</td>\n",
       "                        <td id=\"T_64ba9ee4_d484_11e9_a828_7fac66d098b2row8_col8\" class=\"data row8 col8\" >0.0282</td>\n",
       "            </tr>\n",
       "            <tr>\n",
       "                        <th id=\"T_64ba9ee4_d484_11e9_a828_7fac66d098b2level0_row9\" class=\"row_heading level0 row9\" >135</th>\n",
       "                        <td id=\"T_64ba9ee4_d484_11e9_a828_7fac66d098b2row9_col0\" class=\"data row9 col0\" >0.0270</td>\n",
       "                        <td id=\"T_64ba9ee4_d484_11e9_a828_7fac66d098b2row9_col1\" class=\"data row9 col1\" >0.0271</td>\n",
       "                        <td id=\"T_64ba9ee4_d484_11e9_a828_7fac66d098b2row9_col2\" class=\"data row9 col2\" >0.0272</td>\n",
       "                        <td id=\"T_64ba9ee4_d484_11e9_a828_7fac66d098b2row9_col3\" class=\"data row9 col3\" >0.0274</td>\n",
       "                        <td id=\"T_64ba9ee4_d484_11e9_a828_7fac66d098b2row9_col4\" class=\"data row9 col4\" >0.0273</td>\n",
       "                        <td id=\"T_64ba9ee4_d484_11e9_a828_7fac66d098b2row9_col5\" class=\"data row9 col5\" >0.0273</td>\n",
       "                        <td id=\"T_64ba9ee4_d484_11e9_a828_7fac66d098b2row9_col6\" class=\"data row9 col6\" >0.0276</td>\n",
       "                        <td id=\"T_64ba9ee4_d484_11e9_a828_7fac66d098b2row9_col7\" class=\"data row9 col7\" >0.0276</td>\n",
       "                        <td id=\"T_64ba9ee4_d484_11e9_a828_7fac66d098b2row9_col8\" class=\"data row9 col8\" >0.0281</td>\n",
       "            </tr>\n",
       "            <tr>\n",
       "                        <th id=\"T_64ba9ee4_d484_11e9_a828_7fac66d098b2level0_row10\" class=\"row_heading level0 row10\" >150</th>\n",
       "                        <td id=\"T_64ba9ee4_d484_11e9_a828_7fac66d098b2row10_col0\" class=\"data row10 col0\" >0.0266</td>\n",
       "                        <td id=\"T_64ba9ee4_d484_11e9_a828_7fac66d098b2row10_col1\" class=\"data row10 col1\" >0.0268</td>\n",
       "                        <td id=\"T_64ba9ee4_d484_11e9_a828_7fac66d098b2row10_col2\" class=\"data row10 col2\" >0.0272</td>\n",
       "                        <td id=\"T_64ba9ee4_d484_11e9_a828_7fac66d098b2row10_col3\" class=\"data row10 col3\" >0.0273</td>\n",
       "                        <td id=\"T_64ba9ee4_d484_11e9_a828_7fac66d098b2row10_col4\" class=\"data row10 col4\" >0.0273</td>\n",
       "                        <td id=\"T_64ba9ee4_d484_11e9_a828_7fac66d098b2row10_col5\" class=\"data row10 col5\" >0.0276</td>\n",
       "                        <td id=\"T_64ba9ee4_d484_11e9_a828_7fac66d098b2row10_col6\" class=\"data row10 col6\" >0.0276</td>\n",
       "                        <td id=\"T_64ba9ee4_d484_11e9_a828_7fac66d098b2row10_col7\" class=\"data row10 col7\" >0.0276</td>\n",
       "                        <td id=\"T_64ba9ee4_d484_11e9_a828_7fac66d098b2row10_col8\" class=\"data row10 col8\" >0.0278</td>\n",
       "            </tr>\n",
       "            <tr>\n",
       "                        <th id=\"T_64ba9ee4_d484_11e9_a828_7fac66d098b2level0_row11\" class=\"row_heading level0 row11\" >165</th>\n",
       "                        <td id=\"T_64ba9ee4_d484_11e9_a828_7fac66d098b2row11_col0\" class=\"data row11 col0\" >0.0264</td>\n",
       "                        <td id=\"T_64ba9ee4_d484_11e9_a828_7fac66d098b2row11_col1\" class=\"data row11 col1\" >0.0269</td>\n",
       "                        <td id=\"T_64ba9ee4_d484_11e9_a828_7fac66d098b2row11_col2\" class=\"data row11 col2\" >0.0266</td>\n",
       "                        <td id=\"T_64ba9ee4_d484_11e9_a828_7fac66d098b2row11_col3\" class=\"data row11 col3\" >0.0267</td>\n",
       "                        <td id=\"T_64ba9ee4_d484_11e9_a828_7fac66d098b2row11_col4\" class=\"data row11 col4\" >0.0268</td>\n",
       "                        <td id=\"T_64ba9ee4_d484_11e9_a828_7fac66d098b2row11_col5\" class=\"data row11 col5\" >0.0275</td>\n",
       "                        <td id=\"T_64ba9ee4_d484_11e9_a828_7fac66d098b2row11_col6\" class=\"data row11 col6\" >0.0273</td>\n",
       "                        <td id=\"T_64ba9ee4_d484_11e9_a828_7fac66d098b2row11_col7\" class=\"data row11 col7\" >0.0274</td>\n",
       "                        <td id=\"T_64ba9ee4_d484_11e9_a828_7fac66d098b2row11_col8\" class=\"data row11 col8\" >0.0270</td>\n",
       "            </tr>\n",
       "            <tr>\n",
       "                        <th id=\"T_64ba9ee4_d484_11e9_a828_7fac66d098b2level0_row12\" class=\"row_heading level0 row12\" >180</th>\n",
       "                        <td id=\"T_64ba9ee4_d484_11e9_a828_7fac66d098b2row12_col0\" class=\"data row12 col0\" >0.0256</td>\n",
       "                        <td id=\"T_64ba9ee4_d484_11e9_a828_7fac66d098b2row12_col1\" class=\"data row12 col1\" >0.0257</td>\n",
       "                        <td id=\"T_64ba9ee4_d484_11e9_a828_7fac66d098b2row12_col2\" class=\"data row12 col2\" >0.0261</td>\n",
       "                        <td id=\"T_64ba9ee4_d484_11e9_a828_7fac66d098b2row12_col3\" class=\"data row12 col3\" >0.0263</td>\n",
       "                        <td id=\"T_64ba9ee4_d484_11e9_a828_7fac66d098b2row12_col4\" class=\"data row12 col4\" >0.0261</td>\n",
       "                        <td id=\"T_64ba9ee4_d484_11e9_a828_7fac66d098b2row12_col5\" class=\"data row12 col5\" >0.0262</td>\n",
       "                        <td id=\"T_64ba9ee4_d484_11e9_a828_7fac66d098b2row12_col6\" class=\"data row12 col6\" >0.0266</td>\n",
       "                        <td id=\"T_64ba9ee4_d484_11e9_a828_7fac66d098b2row12_col7\" class=\"data row12 col7\" >0.0268</td>\n",
       "                        <td id=\"T_64ba9ee4_d484_11e9_a828_7fac66d098b2row12_col8\" class=\"data row12 col8\" >0.0274</td>\n",
       "            </tr>\n",
       "            <tr>\n",
       "                        <th id=\"T_64ba9ee4_d484_11e9_a828_7fac66d098b2level0_row13\" class=\"row_heading level0 row13\" >195</th>\n",
       "                        <td id=\"T_64ba9ee4_d484_11e9_a828_7fac66d098b2row13_col0\" class=\"data row13 col0\" >0.0252</td>\n",
       "                        <td id=\"T_64ba9ee4_d484_11e9_a828_7fac66d098b2row13_col1\" class=\"data row13 col1\" >0.0251</td>\n",
       "                        <td id=\"T_64ba9ee4_d484_11e9_a828_7fac66d098b2row13_col2\" class=\"data row13 col2\" >0.0253</td>\n",
       "                        <td id=\"T_64ba9ee4_d484_11e9_a828_7fac66d098b2row13_col3\" class=\"data row13 col3\" >0.0256</td>\n",
       "                        <td id=\"T_64ba9ee4_d484_11e9_a828_7fac66d098b2row13_col4\" class=\"data row13 col4\" >0.0254</td>\n",
       "                        <td id=\"T_64ba9ee4_d484_11e9_a828_7fac66d098b2row13_col5\" class=\"data row13 col5\" >0.0258</td>\n",
       "                        <td id=\"T_64ba9ee4_d484_11e9_a828_7fac66d098b2row13_col6\" class=\"data row13 col6\" >0.0263</td>\n",
       "                        <td id=\"T_64ba9ee4_d484_11e9_a828_7fac66d098b2row13_col7\" class=\"data row13 col7\" >0.0260</td>\n",
       "                        <td id=\"T_64ba9ee4_d484_11e9_a828_7fac66d098b2row13_col8\" class=\"data row13 col8\" >0.0261</td>\n",
       "            </tr>\n",
       "    </tbody></table>"
      ],
      "text/plain": [
       "<pandas.io.formats.style.Styler at 0x7fd80b08fe10>"
      ]
     },
     "execution_count": 31,
     "metadata": {},
     "output_type": "execute_result"
    }
   ],
   "source": [
    "(svd_scores.sort_index()\n",
    "           .unstack(level='col_scaling')\n",
    "           .iloc[::3] # don't display all rank values\n",
    "           .style\n",
    "           .format(\"{:.4f}\")\n",
    "           .background_gradient(cmap='viridis', high=0.2, axis=None))"
   ]
  },
  {
   "cell_type": "markdown",
   "metadata": {},
   "source": [
    "As we can see, the optimal rank values sit somewhere around the rank 50. The prediction quality is not impressive, though. Surprisingly, unlike [many other examples](https://arxiv.org/abs/1802.06398), this time the scaling does not help too much and the model performs poorly. It may indicate that properly handling side information plays more critical role than data debiasing. Seemingly, *SVD is unable to reliably connect tag-based description with the latent representation*. **We can try to fix this problem with the help of the hybrid version of SVD**. This is going to be the second and the main baseline. "
   ]
  },
  {
   "cell_type": "markdown",
   "metadata": {},
   "source": [
    "## HybridSVD"
   ]
  },
  {
   "cell_type": "markdown",
   "metadata": {},
   "source": [
    "<div class=\"alert alert-block alert-info\">HybridSVD allows to impose the desired structure on the latent feature space using side information.</div> "
   ]
  },
  {
   "cell_type": "markdown",
   "metadata": {},
   "source": [
    "Hopefully, this structure will be more appropriate for discovering relationships between the real and the latent features, and will improve predictions quality in the cold start. The hybrid functionality of SVD is enabled by the use of additional information about similarities between users and/or items. These similarities should be computed beforehand and utilize side features (item tags in our case). The **model still uses SVD for computations**, even though internally it is applied to a special auxiliary matrix instead of the original one. It, therefore, remains the \"real\" SVD-based model **with all its advantages**. Once again, you can look up the details in [our paper](https://arxiv.org/abs/1802.06398). The process of computing the model and generating recommendations remains largely the same, except for the additional handling of similarity information. Polara already provides support for this. We only need to invoke the necessary methods and classes. See the related data pre-processing procedure below. "
   ]
  },
  {
   "cell_type": "markdown",
   "metadata": {},
   "source": [
    "### Preparing similarity data"
   ]
  },
  {
   "cell_type": "markdown",
   "metadata": {},
   "source": [
    "We start by computing the tag-based similarity between items using the Polara's built-in functions. You can use your own favorite methods to compute similarities, there is a lot of freedom here."
   ]
  },
  {
   "cell_type": "code",
   "execution_count": 32,
   "metadata": {},
   "outputs": [],
   "source": [
    "from polara.recommender.coldstart.data import ItemColdStartSimilarityData\n",
    "from polara.lib.similarity import combine_similarity_data"
   ]
  },
  {
   "cell_type": "code",
   "execution_count": 33,
   "metadata": {},
   "outputs": [
    {
     "name": "stdout",
     "output_type": "stream",
     "text": [
      "Similarity matrix density is 8.4%.\n"
     ]
    }
   ],
   "source": [
    "training_tags = item_tags.reindex(training_data['items'].unique(), fill_value=[])\n",
    "tag_similarity = combine_similarity_data(training_tags, similarity_type='cosine')\n",
    "print('Similarity matrix density is '\n",
    "      f'{tag_similarity.nnz / np.prod(tag_similarity.shape):.1%}.')"
   ]
  },
  {
   "cell_type": "markdown",
   "metadata": {},
   "source": [
    "This similairty matrix will be fed into the special data model instance, which will take care of providing a consistent on-demand access to similarity information for all dependent recommender models. The input should be in the format of a dictionary, specifiyng types of entities, similarities between them and the corresponding indexing information to decode rows (or columns) of the similarity matrices:"
   ]
  },
  {
   "cell_type": "code",
   "execution_count": 34,
   "metadata": {},
   "outputs": [],
   "source": [
    "similarities = {'users': None, # we have no user features\n",
    "                'items': tag_similarity}\n",
    "sim_indices = {'users': None,\n",
    "               'items': training_tags.index}"
   ]
  },
  {
   "cell_type": "markdown",
   "metadata": {},
   "source": [
    "All other functionality remains the same as in the standard data model:"
   ]
  },
  {
   "cell_type": "code",
   "execution_count": 35,
   "metadata": {},
   "outputs": [
    {
     "name": "stdout",
     "output_type": "stream",
     "text": [
      "ItemColdStartSimilarityData with Fields(userid='users', itemid='items', feedback=None)\n"
     ]
    }
   ],
   "source": [
    "data_model_sim = ItemColdStartSimilarityData(\n",
    "    training_data,\n",
    "    *training_data.columns,\n",
    "    relations_matrices=similarities, # new input args\n",
    "    relations_indices=sim_indices, # new input args\n",
    "    item_features=item_tags,\n",
    "    seed=seed\n",
    ")\n",
    "print(data_model_sim)"
   ]
  },
  {
   "cell_type": "markdown",
   "metadata": {},
   "source": [
    "We also use the the same configuration of the new data model to ensure the same data pre-processing and the same overall setup."
   ]
  },
  {
   "cell_type": "code",
   "execution_count": 36,
   "metadata": {},
   "outputs": [
    {
     "name": "stdout",
     "output_type": "stream",
     "text": [
      "Preparing data...\n",
      "1 unique users entities within 2 holdout interactions were filtered. Reason: not in the training data.\n",
      "Done.\n",
      "There are 54975 events in the training and 2853 events in the holdout.\n"
     ]
    }
   ],
   "source": [
    "data_model_sim.test_ratio = data_model.test_ratio\n",
    "data_model_sim.prepare()"
   ]
  },
  {
   "cell_type": "markdown",
   "metadata": {},
   "source": [
    "### The model"
   ]
  },
  {
   "cell_type": "markdown",
   "metadata": {},
   "source": [
    "In order to generate the latent representation of a cold item the model uses the same linear system as in the standard PureSVD case. The main difference is how the linear transformatin matrix $W$ is computed:\n",
    "$$\n",
    "W=V^\\top SF.\n",
    "$$\n",
    "$S$ is an item similarity matrix and $V$ is now $S$-orthogonal, e.g., $V^\\top S V = I$. The model also introduces an additional weighting hyper-parameter $\\alpha \\in [0, 1]$:\n",
    "$$\n",
    "S=(1-\\alpha)I + \\alpha Z,\n",
    "$$\n",
    "where $Z$ is the actual similarity matrix computed above (see `similarities` variable). Higher values of $\\alpha$ will make the model more sensitive to side information, while setting $\\alpha=0$ will turn the model back into `PureSVD`. To simplify the process, we will not tune its value. We will just make it relatively high to emphasize the importance of tag information for the model. This is going to help us **verify an assumption that tag information is critical for building an adequate latent representation with SVD**."
   ]
  },
  {
   "cell_type": "code",
   "execution_count": 37,
   "metadata": {},
   "outputs": [],
   "source": [
    "from polara.recommender.coldstart.models import ScaledHybridSVDItemColdStart"
   ]
  },
  {
   "cell_type": "code",
   "execution_count": 38,
   "metadata": {},
   "outputs": [],
   "source": [
    "hsvd = ScaledHybridSVDItemColdStart(data_model_sim)\n",
    "hsvd.features_weight = 0.9 # the value of alpha"
   ]
  },
  {
   "cell_type": "markdown",
   "metadata": {},
   "source": [
    "On the technical side, the model takes as an input the product of several sparse matrices, which forms an auxiliary matrix. As these computations are based on matrix-vector products (due to the Lanczos procedure used in the truncated SVD), we are presented with the choice:\n",
    "* we can either avoid explicitly forming the auxiliary matrix and just consequently compute matrix-vector products with all involved components, or\n",
    "* we can precompute and store the auxiliary matrix first and then perform a single matrix-vector multiplication.\n",
    "\n",
    "Computational efficiency of the aforementioned approaches strongly depends on the sparsity structure of the input matrices. Therefore, the optimal choice should be decided case by case. There is a special attribute to control this behavior in the `HybridSVD` model:"
   ]
  },
  {
   "cell_type": "code",
   "execution_count": 39,
   "metadata": {},
   "outputs": [],
   "source": [
    "hsvd.precompute_auxiliary_matrix = True # faster in this case"
   ]
  },
  {
   "cell_type": "markdown",
   "metadata": {},
   "source": [
    "### Tuning"
   ]
  },
  {
   "cell_type": "markdown",
   "metadata": {},
   "source": [
    "We have already spent some time tuning `PureSVD`. Assuming that the main contribution of `HybridSVD` is related to tag handling, we can simply reuse the the scaling values obtained earlier.\n",
    "The only parameter left for tuning is the rank of decomposition. Conveniently, it **requires computing the model only once!** We can use the Polara's built-in `find_optimal_svd_rank` routine for that."
   ]
  },
  {
   "cell_type": "markdown",
   "metadata": {},
   "source": [
    "<div class=\"alert alert-block alert-warning\">Note that some calculations with the tag similarity matrix may eat up to 10Gb of RAM due to its relatively high density.</div>"
   ]
  },
  {
   "cell_type": "code",
   "execution_count": 40,
   "metadata": {},
   "outputs": [],
   "source": [
    "from polara.evaluation.pipelines import find_optimal_svd_rank"
   ]
  },
  {
   "cell_type": "code",
   "execution_count": 41,
   "metadata": {},
   "outputs": [
    {
     "name": "stdout",
     "output_type": "stream",
     "text": [
      "Updating items relations matrix\n"
     ]
    },
    {
     "data": {
      "text/html": [
       "<div><span class=\"Text-label\" style=\"display:inline-block; overflow:hidden; white-space:nowrap; text-overflow:ellipsis; min-width:0; max-width:10ex; vertical-align:middle; text-align:right\"></span>\n",
       "<progress style=\"width:60ex\" max=\"41\" value=\"41\" class=\"Progress-main\"/></progress>\n",
       "<span class=\"Progress-label\"><strong>100%</strong></span>\n",
       "<span class=\"Iteration-label\">41/41</span>\n",
       "<span class=\"Time-label\">[00:08<00:00, 0.20s/it]</span></div>"
      ],
      "text/plain": [
       "\u001b[A\u001b[2K\r",
       " [████████████████████████████████████████████████████████████] 41/41 [00:08<00:00, 0.20s/it]"
      ]
     },
     "metadata": {},
     "output_type": "display_data"
    }
   ],
   "source": [
    "hsvd.col_scaling = svd_best_config['col_scaling'] # reuse PureSVD config\n",
    "# perform rank tuning (will compute the model only once for the max_rank value)\n",
    "hsvd_best_rank, hsvd_rank_scores = find_optimal_svd_rank(\n",
    "    hsvd, rank_grid, target_metric, return_scores=True, iterator=track\n",
    ")\n",
    "# restore item features embeddings with the maximal rank value\n",
    "hsvd.update_item_features_transform()"
   ]
  },
  {
   "cell_type": "code",
   "execution_count": 42,
   "metadata": {},
   "outputs": [
    {
     "name": "stdout",
     "output_type": "stream",
     "text": [
      "The best precision=0.0458 is achieved at rank=135\n"
     ]
    }
   ],
   "source": [
    "print(f'The best {target_metric}={hsvd_rank_scores.loc[hsvd_best_rank]:.4f} '\n",
    "      f'is achieved at rank={hsvd_best_rank}')"
   ]
  },
  {
   "cell_type": "markdown",
   "metadata": {},
   "source": [
    "**The result is much better than for PureSVD!** Let us compare all three models together."
   ]
  },
  {
   "cell_type": "markdown",
   "metadata": {},
   "source": [
    "### Comparing tuning results for all models"
   ]
  },
  {
   "cell_type": "markdown",
   "metadata": {},
   "source": [
    "Note that this is still a preliminary result, awaiting for the confirmation on the test data, provided later in this tutorial."
   ]
  },
  {
   "cell_type": "code",
   "execution_count": 43,
   "metadata": {},
   "outputs": [
    {
     "data": {
      "image/png": "[encoded data removed]",
      "text/plain": [
       "<Figure size 432x288 with 1 Axes>"
      ]
     },
     "metadata": {
      "image/png": {
       "height": 281,
       "width": 412
      },
      "needs_background": "light"
     },
     "output_type": "display_data"
    }
   ],
   "source": [
    "ax = hsvd_rank_scores.sort_index().plot(label='HybridSVD', marker='.')\n",
    "svd_scores.groupby('rank').max().plot(ax=ax , label='SVD', ls=':')\n",
    "ax.axhline(study.best_value, label='LightFM (best)', ls='--')\n",
    "ax.legend()\n",
    "ax.set_ylabel('precision')\n",
    "ax.set_title('Item Cold Start');"
   ]
  },
  {
   "cell_type": "markdown",
   "metadata": {},
   "source": [
    "We see that HybridSVD has a very good capacity comparing to other models in terms of the prediction quality. It seems that HybridSVD can be further improved with higher rank values. There is also some room for improvement in a more careful tuning of the scaling parameter and the weighting coefficient $\\alpha$. "
   ]
  },
  {
   "cell_type": "markdown",
   "metadata": {},
   "source": [
    "<div class=\"alert alert-block alert-success\">Interestingly, you can achieve the LightFM's quality with HybridSVD of rank 10, while the standard SVD-based model is unable to get even close to LightFM at any rank value!</div>"
   ]
  },
  {
   "cell_type": "markdown",
   "metadata": {},
   "source": [
    "Here is a quick check:"
   ]
  },
  {
   "cell_type": "code",
   "execution_count": 44,
   "metadata": {},
   "outputs": [
    {
     "name": "stdout",
     "output_type": "stream",
     "text": [
      "HybridSVD's precision at rank 10 is 0.0366\n",
      "LightFM's best precision score is 0.0344\n"
     ]
    }
   ],
   "source": [
    "hsvd.rank = 10 # Polara automatically truncates latent factors in SVD-based models\n",
    "print(f'HybridSVD\\'s {target_metric} at rank {hsvd.rank} is '\n",
    "      f'{find_target_metric(hsvd.evaluate(), target_metric):.4f}\\n'\n",
    "      f'LightFM\\'s best {target_metric} score is {study.best_value:.4f}')"
   ]
  },
  {
   "cell_type": "markdown",
   "metadata": {},
   "source": [
    "It is time to finally verify the obtained result on the test data."
   ]
  },
  {
   "cell_type": "markdown",
   "metadata": {},
   "source": [
    "<a id=\"evaluation-of-models\"></a>\n",
    "# Evaluation of models"
   ]
  },
  {
   "cell_type": "markdown",
   "metadata": {},
   "source": [
    "## Preparing data"
   ]
  },
  {
   "cell_type": "markdown",
   "metadata": {},
   "source": [
    "In order to disable the Polara's built-in data splitting mechanism, we will employ two handy methods `prepare_training_only` and `set_test_data`. The former will instruct the `data_model` to utilize the whole training data for training without splitting it, and the latter will inject the test data, ensuring its overall consistency. "
   ]
  },
  {
   "cell_type": "code",
   "execution_count": 45,
   "metadata": {},
   "outputs": [
    {
     "name": "stdout",
     "output_type": "stream",
     "text": [
      "Preparing data...\n",
      "Done.\n",
      "There are 57830 events in the training and 0 events in the holdout.\n",
      "Done. There are 4307 events in the holdout.\n"
     ]
    }
   ],
   "source": [
    "data_model_sim.prepare_training_only()\n",
    "data_model_sim.set_test_data(holdout=test_data)"
   ]
  },
  {
   "cell_type": "markdown",
   "metadata": {},
   "source": [
    "Note that in the data splitting provided by the `fetch_stackexchange` function some of the items belong to both the training and the test set. We will ignore it and **treat all items in the testset as cold items**. Recall that in our evaluation setup we generate a list of candidate users for every cold item and than verify the list against the actual interactions present in the holdout."
   ]
  },
  {
   "cell_type": "markdown",
   "metadata": {},
   "source": [
    "## Preparing the models to compare"
   ]
  },
  {
   "cell_type": "markdown",
   "metadata": {},
   "source": [
    "We need to ensure that all models use the same data to avoid any accidental discrepancies in the testing procedure. After that we train the models once again with the values of hyper-parameters, found during the tuning phase, and report the final results. "
   ]
  },
  {
   "cell_type": "markdown",
   "metadata": {},
   "source": [
    "### LightFM"
   ]
  },
  {
   "cell_type": "code",
   "execution_count": 46,
   "metadata": {},
   "outputs": [
    {
     "name": "stdout",
     "output_type": "stream",
     "text": [
      "LightFM training time: 4.090s\n"
     ]
    }
   ],
   "source": [
    "lfm = create_lightfm_model(data_model_sim, item_tags, num_threads, seed)\n",
    "lfm.rank = study.best_params['rank']\n",
    "lfm.item_alpha = study.best_params['item_alpha']\n",
    "lfm.fit_params['epochs'] = study.best_trial.user_attrs['epochs']\n",
    "lfm.build()"
   ]
  },
  {
   "cell_type": "markdown",
   "metadata": {},
   "source": [
    "### SVD"
   ]
  },
  {
   "cell_type": "code",
   "execution_count": 47,
   "metadata": {},
   "outputs": [
    {
     "name": "stdout",
     "output_type": "stream",
     "text": [
      "PureSVD(cs)-s training time: 0.112s\n"
     ]
    }
   ],
   "source": [
    "svd = ScaledSVDItemColdStart(data_model_sim)\n",
    "svd.col_scaling = svd_best_config['col_scaling']\n",
    "svd.rank = svd_best_config['rank']\n",
    "svd.build()"
   ]
  },
  {
   "cell_type": "markdown",
   "metadata": {},
   "source": [
    "### HybridSVD"
   ]
  },
  {
   "cell_type": "code",
   "execution_count": 48,
   "metadata": {},
   "outputs": [
    {
     "name": "stdout",
     "output_type": "stream",
     "text": [
      "Updating items relations matrix\n",
      "Performing sparse Cholesky decomposition for items similarity\n",
      "Cholesky decomposition computation time: 01m:47s\n",
      "HybridSVD(cs)-s training time: 52.765s\n",
      "Building items projector for HybridSVD(cs)-s\n",
      "    Solving triangular system: 1.852s\n",
      "    Applying Cholesky factor: 48.022s\n"
     ]
    }
   ],
   "source": [
    "hsvd.rank = hsvd_best_rank\n",
    "hsvd.build()"
   ]
  },
  {
   "cell_type": "markdown",
   "metadata": {},
   "source": [
    "## Analyzing the results"
   ]
  },
  {
   "cell_type": "markdown",
   "metadata": {},
   "source": [
    "Let us first gather all the scores into a single dataframe, which is more convenient."
   ]
  },
  {
   "cell_type": "code",
   "execution_count": 49,
   "metadata": {},
   "outputs": [],
   "source": [
    "from polara.evaluation.evaluation_engine import consolidate_metrics"
   ]
  },
  {
   "cell_type": "code",
   "execution_count": 50,
   "metadata": {},
   "outputs": [],
   "source": [
    "all_scores = {\n",
    "    'SVD (best)': svd.evaluate()\n",
    "    'LightFM (best)': evaluate_lightfm(lfm)\n",
    "    f'HybridSVD (rank {hsvd.rank})': hsvd.evaluate()\n",
    "}"
   ]
  },
  {
   "cell_type": "code",
   "execution_count": 51,
   "metadata": {},
   "outputs": [],
   "source": [
    "all_scores_df = pd.concat([consolidate_metrics(scores, model, False)\n",
    "                           for model, scores in all_scores.items()])"
   ]
  },
  {
   "cell_type": "markdown",
   "metadata": {},
   "source": [
    "During the tuning phase we focused on the `precision` metric. It is now time to also see other metrics as well, and particularly the `coverage` score. It is calculated as the ratio of all unique recommendations, generated by an algorithms, to all unique entities of the same type present in the training data. Obviously, the maximum value is 1 (100% coverage) and it can be typically only achieved with randomly generated recommendations. The `coverage` metric characterizes the tendency of an algorithm to generate the same recommendations over and over again and is, therefore, linked to the diversity of recommendations. Higher diversity allows mitigating the famous [\"Harry Potter\" problem](https://www.quora.com/Recommendation-Systems-What-exactly-is-Harry-Potter-Problem), sometimes also called the \"bananas problem\". I personally like the term \"[tyranny of the majority](https://medium.com/rtl-tech/my-takeaways-from-netflixs-personalization-workshop-2018-f564a19437b6)\". More diverse recommendations are likely to improve an overall user experience as long as the relevance of recommendations remains high enough. It may also [improve overall product sales](https://en.wikipedia.org/wiki/The_Long_Tail_(book)). However, in practice, there is an inverse relationship between diversity and accuracy of recommendations: increasing one of them may [decrease the other](https://dl.acm.org/citation.cfm?id=2043957). The underlying phenomena is the [succeptibility of many recommendation algorithms to popularity biases](https://dl.acm.org/citation.cfm?id=2852083) in the *long tail-distributed* data. We have already tried to partially address that problem by introducing the scaling parameter for SVD. Note that SGD-based algotihms like LightFM also have some control over it via different sampling schemes and customized optimization objectives."
   ]
  },
  {
   "cell_type": "code",
   "execution_count": 52,
   "metadata": {},
   "outputs": [
    {
     "data": {
      "text/html": [
       "<style  type=\"text/css\" >\n",
       "    #T_92e6fd34_d485_11e9_a828_7fac66d098b2row0_col0 {\n",
       "            width:  10em;\n",
       "             height:  80%;\n",
       "            background:  linear-gradient(90deg,#5fba7d 60.9%, transparent 60.9%);\n",
       "        }    #T_92e6fd34_d485_11e9_a828_7fac66d098b2row0_col4 {\n",
       "            width:  10em;\n",
       "             height:  80%;\n",
       "            background:  linear-gradient(90deg,#5fba7d 8.8%, transparent 8.8%);\n",
       "        }    #T_92e6fd34_d485_11e9_a828_7fac66d098b2row1_col0 {\n",
       "            width:  10em;\n",
       "             height:  80%;\n",
       "            background:  linear-gradient(90deg,#5fba7d 86.1%, transparent 86.1%);\n",
       "        }    #T_92e6fd34_d485_11e9_a828_7fac66d098b2row1_col4 {\n",
       "            width:  10em;\n",
       "             height:  80%;\n",
       "            background:  linear-gradient(90deg,#5fba7d 100.0%, transparent 100.0%);\n",
       "        }    #T_92e6fd34_d485_11e9_a828_7fac66d098b2row2_col0 {\n",
       "            width:  10em;\n",
       "             height:  80%;\n",
       "            background:  linear-gradient(90deg,#5fba7d 100.0%, transparent 100.0%);\n",
       "        }    #T_92e6fd34_d485_11e9_a828_7fac66d098b2row2_col4 {\n",
       "            width:  10em;\n",
       "             height:  80%;\n",
       "            background:  linear-gradient(90deg,#5fba7d 54.6%, transparent 54.6%);\n",
       "        }</style><table id=\"T_92e6fd34_d485_11e9_a828_7fac66d098b2\" ><thead>    <tr>        <th class=\"blank level0\" ></th>        <th class=\"col_heading level0 col0\" >precision</th>        <th class=\"col_heading level0 col1\" >recall</th>        <th class=\"col_heading level0 col2\" >miss_rate</th>        <th class=\"col_heading level0 col3\" >nDCG</th>        <th class=\"col_heading level0 col4\" >coverage</th>    </tr></thead><tbody>\n",
       "                <tr>\n",
       "                        <th id=\"T_92e6fd34_d485_11e9_a828_7fac66d098b2level0_row0\" class=\"row_heading level0 row0\" >SVD (best)</th>\n",
       "                        <td id=\"T_92e6fd34_d485_11e9_a828_7fac66d098b2row0_col0\" class=\"data row0 col0\" >0.0228118</td>\n",
       "                        <td id=\"T_92e6fd34_d485_11e9_a828_7fac66d098b2row0_col1\" class=\"data row0 col1\" >0.19749</td>\n",
       "                        <td id=\"T_92e6fd34_d485_11e9_a828_7fac66d098b2row0_col2\" class=\"data row0 col2\" >0.80251</td>\n",
       "                        <td id=\"T_92e6fd34_d485_11e9_a828_7fac66d098b2row0_col3\" class=\"data row0 col3\" >0.130738</td>\n",
       "                        <td id=\"T_92e6fd34_d485_11e9_a828_7fac66d098b2row0_col4\" class=\"data row0 col4\" >0.016765</td>\n",
       "            </tr>\n",
       "            <tr>\n",
       "                        <th id=\"T_92e6fd34_d485_11e9_a828_7fac66d098b2level0_row1\" class=\"row_heading level0 row1\" >LightFM (best)</th>\n",
       "                        <td id=\"T_92e6fd34_d485_11e9_a828_7fac66d098b2row1_col0\" class=\"data row1 col0\" >0.0322757</td>\n",
       "                        <td id=\"T_92e6fd34_d485_11e9_a828_7fac66d098b2row1_col1\" class=\"data row1 col1\" >0.285704</td>\n",
       "                        <td id=\"T_92e6fd34_d485_11e9_a828_7fac66d098b2row1_col2\" class=\"data row1 col2\" >0.714296</td>\n",
       "                        <td id=\"T_92e6fd34_d485_11e9_a828_7fac66d098b2row1_col3\" class=\"data row1 col3\" >0.20512</td>\n",
       "                        <td id=\"T_92e6fd34_d485_11e9_a828_7fac66d098b2row1_col4\" class=\"data row1 col4\" >0.190934</td>\n",
       "            </tr>\n",
       "            <tr>\n",
       "                        <th id=\"T_92e6fd34_d485_11e9_a828_7fac66d098b2level0_row2\" class=\"row_heading level0 row2\" >HybridSVD (rank 135)</th>\n",
       "                        <td id=\"T_92e6fd34_d485_11e9_a828_7fac66d098b2row2_col0\" class=\"data row2 col0\" >0.0374726</td>\n",
       "                        <td id=\"T_92e6fd34_d485_11e9_a828_7fac66d098b2row2_col1\" class=\"data row2 col1\" >0.328895</td>\n",
       "                        <td id=\"T_92e6fd34_d485_11e9_a828_7fac66d098b2row2_col2\" class=\"data row2 col2\" >0.671105</td>\n",
       "                        <td id=\"T_92e6fd34_d485_11e9_a828_7fac66d098b2row2_col3\" class=\"data row2 col3\" >0.237991</td>\n",
       "                        <td id=\"T_92e6fd34_d485_11e9_a828_7fac66d098b2row2_col4\" class=\"data row2 col4\" >0.104315</td>\n",
       "            </tr>\n",
       "    </tbody></table>"
      ],
      "text/plain": [
       "<pandas.io.formats.style.Styler at 0x7fd80be05630>"
      ]
     },
     "execution_count": 52,
     "metadata": {},
     "output_type": "execute_result"
    }
   ],
   "source": [
    "(all_scores_df\n",
    " .dropna(axis=1) # skip irrelevant metrics\n",
    " .loc[:, :'coverage']\n",
    " .style.bar(subset=[target_metric, 'coverage'], color='#5fba7d', align='mid')\n",
    ")"
   ]
  },
  {
   "cell_type": "markdown",
   "metadata": {},
   "source": [
    "As indicated by green horizontal bars in the table above, the standard SVD-based model performs poorly both in terms of recommendations accuracy and in terms of diversity. Likewise, LightFM presents a trade-off between these two metrics. \n",
    "However, we have seen that HybridSVD has not yet reached it's best performance. Note that **lower rank values make SVD-based models insensitive to frequent variations in the observed user behavior**, hence leading to a lower diversity of recommendations in the end. Let us try to increase the rank of the decompostition to verify that."
   ]
  },
  {
   "cell_type": "code",
   "execution_count": 53,
   "metadata": {},
   "outputs": [
    {
     "name": "stdout",
     "output_type": "stream",
     "text": [
      "HybridSVD(cs)-s training time: 02m:42s\n",
      "Building items projector for HybridSVD(cs)-s\n",
      "    Solving triangular system: 7.070s\n",
      "    Applying Cholesky factor: 02m:28s\n"
     ]
    }
   ],
   "source": [
    "hsvd.rank = 400\n",
    "hsvd.build()"
   ]
  },
  {
   "cell_type": "code",
   "execution_count": 54,
   "metadata": {},
   "outputs": [],
   "source": [
    "# add new HybridSVD scores to the evaluation results\n",
    "all_scores_df.loc[f'HybridSVD (rank {hsvd.rank})', :] = [\n",
    "    score for metrics in hsvd.evaluate() for score in metrics\n",
    "]"
   ]
  },
  {
   "cell_type": "code",
   "execution_count": 55,
   "metadata": {},
   "outputs": [
    {
     "data": {
      "image/png": "[encoded data removed]",
      "text/plain": [
       "<Figure size 432x288 with 1 Axes>"
      ]
     },
     "metadata": {
      "image/png": {
       "height": 267,
       "width": 382
      },
      "needs_background": "light"
     },
     "output_type": "display_data"
    }
   ],
   "source": [
    "all_scores_df[['precision', 'recall', 'nDCG', 'coverage']].T.plot.bar(rot=0);\n",
    "plt.title('Combined evaluation results');"
   ]
  },
  {
   "cell_type": "markdown",
   "metadata": {},
   "source": [
    "<div class=\"alert alert-block alert-success\">Remarkably, with HybridSVD we were able to substantially increase the diversity of recommendations without spoiling them.</div>"
   ]
  },
  {
   "cell_type": "markdown",
   "metadata": {},
   "source": [
    "In fact, we have even slightly *increased the accuracy* both in terms of relevance of recommendations (indicated by precision and recall) and in terms of ranking (indicated by nDCG metric)!"
   ]
  },
  {
   "cell_type": "markdown",
   "metadata": {},
   "source": [
    "<a id=\"conclusion\"></a>\n",
    "# Conclusion"
   ]
  },
  {
   "cell_type": "markdown",
   "metadata": {},
   "source": [
    "This tutorial demonstrates capabilities of the HybridSVD model. The dataset we used here has a strong dependence on side information, and HybridSVD apparently takes the most out of it, significantly outperforming its competitors. If you find this tutorial helpful and will use it on another data (or with other models), let me know about your results! Do you observe the same behavior?\n",
    "\n",
    "Of course, this tutorial does not suggest that HybridSVD will always be better than any other hybrid model, including LightFM. However, HybridSVD at least presents an easy-to-tune yet very competitive baseline. It inherits the main advantages of the standard PureSVD approach and extends its functionality. Moreover, its hyper-parameters have a straightforward and intuitive effect on the quality of recommendations.\n",
    "\n",
    "There are certain technical challenges, related to implementation of the algorithm, which I'm not going to discuss here (the post is already too long). Some of them will be addressed in forthcoming papers or in blog posts. However, if you have any specific question in mind, let me know in the comments section below or post an issue in the Polara's github repository."
   ]
  }
 ],
 "metadata": {
  "kernelspec": {
   "display_name": "Python 3",
   "language": "python",
   "name": "python3"
  },
  "language_info": {
   "codemirror_mode": {
    "name": "ipython",
    "version": 3
   },
   "file_extension": ".py",
   "mimetype": "text/x-python",
   "name": "python",
   "nbconvert_exporter": "python",
   "pygments_lexer": "ipython3",
   "version": "3.6.9"
  }
 },
 "nbformat": 4,
 "nbformat_minor": 4
}
